{
 "cells": [
  {
   "cell_type": "code",
   "execution_count": 3,
   "metadata": {},
   "outputs": [
    {
     "data": {
      "text/html": [
       "\n",
       "<div>\n",
       "    <script class=\"powered\" type=\"text/javascript\"\n",
       "            src=\"https://widgets.myfxbook.com/scripts/fxOutlook.js?type=0&symbols=,1,2,3,4,5,6,7,8,9,10,11,12,13,14,17,20,24,25,26,27,28,29,46,47,48,49,51,103,107\"></script>\n",
       "</div>\n",
       "<div style=\"font-size: 10px\">\n",
       "<a href=\"https://www.myfxbook.com\" title=\"\" class=\"myfxbookLink\" target=\"_self\" rel=\"noopener\">\n",
       "            Powered by Myfxbook.com</a>\n",
       "</div>\n",
       "\n",
       "<script type=\"text/javascript\">showOutlookWidget()</script>\n"
      ],
      "text/plain": [
       "<IPython.core.display.HTML object>"
      ]
     },
     "execution_count": 3,
     "metadata": {},
     "output_type": "execute_result"
    }
   ],
   "source": [
    "from IPython.display import HTML\n",
    "\n",
    "html_code = \"\"\"\n",
    "<div>\n",
    "    <script class=\"powered\" type=\"text/javascript\"\n",
    "            src=\"https://widgets.myfxbook.com/scripts/fxOutlook.js?type=0&symbols=,1,2,3,4,5,6,7,8,9,10,11,12,13,14,17,20,24,25,26,27,28,29,46,47,48,49,51,103,107\"></script>\n",
    "</div>\n",
    "<div style=\"font-size: 10px\">\n",
    "<a href=\"https://www.myfxbook.com\" title=\"\" class=\"myfxbookLink\" target=\"_self\" rel=\"noopener\">\n",
    "            Powered by Myfxbook.com</a>\n",
    "</div>\n",
    "\n",
    "<script type=\"text/javascript\">showOutlookWidget()</script>\n",
    "\"\"\"\n",
    "\n",
    "HTML(html_code)\n"
   ]
  },
  {
   "cell_type": "code",
   "execution_count": null,
   "metadata": {},
   "outputs": [],
   "source": []
  }
 ],
 "metadata": {
  "kernelspec": {
   "display_name": "base",
   "language": "python",
   "name": "python3"
  },
  "language_info": {
   "codemirror_mode": {
    "name": "ipython",
    "version": 3
   },
   "file_extension": ".py",
   "mimetype": "text/x-python",
   "name": "python",
   "nbconvert_exporter": "python",
   "pygments_lexer": "ipython3",
   "version": "3.10.9"
  }
 },
 "nbformat": 4,
 "nbformat_minor": 2
}
