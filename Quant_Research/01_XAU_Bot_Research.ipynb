{
 "cells": [
  {
   "cell_type": "markdown",
   "metadata": {},
   "source": [
    "## Research Notebook for 01 XAU Bot\n",
    "\n",
    "This notebook looks into a simple SMAcrossover strategy using backtesting.py libray and mt5 as a data feed. the following are the steps that are applied:\n",
    "\n",
    "1. get data from mt5 using settings of desired asset and timeframe \n",
    "2. using class from backtesting.py, backtest the strategy \n",
    "3. optimize the strategy for the best parameters \n",
    "4. visualize using graphical methods. \n",
    "\n",
    "\n",
    "\n",
    "\n"
   ]
  },
  {
   "cell_type": "code",
   "execution_count": 1,
   "metadata": {},
   "outputs": [],
   "source": [
    "import MetaTrader5 as mt5\n",
    "import pandas as pd\n",
    "import ta\n",
    "import time\n",
    "from backtesting import Backtest, Strategy\n",
    "from backtesting.lib import crossover\n",
    "from datetime import datetime\n",
    "import matplotlib.pyplot as plt\n",
    "from matplotlib import cycler\n",
    "%matplotlib inline"
   ]
  },
  {
   "cell_type": "code",
   "execution_count": 2,
   "metadata": {},
   "outputs": [],
   "source": [
    "def plt_dark():\n",
    "       colors = cycler('color',\n",
    "                     ['#669FEE', '#66EE91', '#9988DD',\n",
    "                     '#EECC55', '#88BB44', '#FFBBBB'])\n",
    "       plt.rc('figure', facecolor='#313233')\n",
    "       plt.rc('axes', facecolor=\"#313233\", edgecolor='none',\n",
    "              axisbelow=True, grid=True, prop_cycle=colors,\n",
    "              labelcolor='gray')\n",
    "       plt.rc('grid', color='474A4A', linestyle='solid')\n",
    "       plt.rc('xtick', color='gray')\n",
    "       plt.rc('ytick', direction='out', color='gray')\n",
    "       plt.rc('legend', facecolor=\"#313233\", edgecolor=\"#313233\")\n",
    "       plt.rc(\"text\", color=\"#C9C9C9\")\n",
    "       plt.rc('figure', facecolor='#313233')\n",
    "plt_dark()"
   ]
  },
  {
   "cell_type": "code",
   "execution_count": 13,
   "metadata": {},
   "outputs": [
    {
     "name": "stderr",
     "output_type": "stream",
     "text": [
      "C:\\Users\\User\\AppData\\Local\\Temp\\ipykernel_30652\\2166583085.py:36: UserWarning: Data index is not datetime. Assuming simple periods, but `pd.DateTimeIndex` is advised.\n",
      "  bt = Backtest(df, SMAcross, cash=100000, commission= 0.002, exclusive_orders=True)\n"
     ]
    },
    {
     "data": {
      "text/plain": [
       "Start                                     0.0\n",
       "End                                    3614.0\n",
       "Duration                               3614.0\n",
       "Exposure Time [%]                   97.538036\n",
       "Equity Final [$]                 105074.47576\n",
       "Equity Peak [$]                  109187.85786\n",
       "Return [%]                           5.074476\n",
       "Buy & Hold Return [%]               10.770687\n",
       "Return (Ann.) [%]                         0.0\n",
       "Volatility (Ann.) [%]                     NaN\n",
       "Sharpe Ratio                              NaN\n",
       "Sortino Ratio                             NaN\n",
       "Calmar Ratio                              0.0\n",
       "Max. Drawdown [%]                  -10.305562\n",
       "Avg. Drawdown [%]                   -0.675916\n",
       "Max. Drawdown Duration                 1946.0\n",
       "Avg. Drawdown Duration                   79.0\n",
       "# Trades                                 73.0\n",
       "Win Rate [%]                        36.986301\n",
       "Best Trade [%]                       6.827271\n",
       "Worst Trade [%]                      -1.68687\n",
       "Avg. Trade [%]                       0.067082\n",
       "Max. Trade Duration                     232.0\n",
       "Avg. Trade Duration                 48.287671\n",
       "Profit Factor                        1.200262\n",
       "Expectancy [%]                       0.075152\n",
       "SQN                                   0.45778\n",
       "_strategy                            SMAcross\n",
       "_equity_curve                         Equi...\n",
       "_trades                       Size  EntryB...\n",
       "dtype: object"
      ]
     },
     "execution_count": 13,
     "metadata": {},
     "output_type": "execute_result"
    }
   ],
   "source": [
    "\n",
    "# Settings \n",
    "symbol = 'XAUUSD'\n",
    "timeframe = mt5.TIMEFRAME_H1\n",
    "start_date = datetime(2023, 8, 1)\n",
    "end_date = datetime.now()\n",
    "\n",
    "# Function \n",
    "def GetMTData():\n",
    "    mt5.initialize()\n",
    "    bars = pd.DataFrame(mt5.copy_rates_range(symbol, timeframe, start_date, end_date))\n",
    "    bars['time'] = pd.to_datetime(bars['time'], unit='s')\n",
    "    bars.columns = bars.columns.str.capitalize()\n",
    "    return bars\n",
    "\n",
    "df  = GetMTData()\n",
    "# xauusd.tail()\n",
    "\n",
    "class SMAcross(Strategy):\n",
    "    \n",
    "    n1 = 20\n",
    "    n2 = 50\n",
    "    \n",
    "    def init(self):\n",
    "        close = self.data.Close\n",
    "        self.sma1 = self.I(ta.trend.sma_indicator, pd.Series(close), self.n1)\n",
    "        self.sma2 = self.I(ta.trend.sma_indicator, pd.Series(close), self.n2)\n",
    "        \n",
    "        \n",
    "    def next(self):\n",
    "        if crossover(self.sma1, self.sma2):\n",
    "            self.buy()\n",
    "        elif crossover(self.sma2, self.sma1):\n",
    "            self.sell()\n",
    "        \n",
    "\n",
    "bt = Backtest(df, SMAcross, cash=100000, commission= 0.002, exclusive_orders=True)\n",
    "            \n",
    "output = bt.run()\n",
    "\n",
    "output\n",
    "\n",
    "\n",
    "\n",
    "    \n",
    "    "
   ]
  },
  {
   "cell_type": "code",
   "execution_count": 14,
   "metadata": {},
   "outputs": [
    {
     "data": {
      "text/html": [
       "<div style=\"display: table;\"><div style=\"display: table-row;\"><div style=\"display: table-cell;\"><b title=\"bokeh.models.layouts.Row\">Row</b>(</div><div style=\"display: table-cell;\">id&nbsp;=&nbsp;'4891', <span id=\"5401\" style=\"cursor: pointer;\">&hellip;)</span></div></div><div class=\"5400\" style=\"display: none;\"><div style=\"display: table-cell;\"></div><div style=\"display: table-cell;\">align&nbsp;=&nbsp;'start',</div></div><div class=\"5400\" style=\"display: none;\"><div style=\"display: table-cell;\"></div><div style=\"display: table-cell;\">aspect_ratio&nbsp;=&nbsp;None,</div></div><div class=\"5400\" style=\"display: none;\"><div style=\"display: table-cell;\"></div><div style=\"display: table-cell;\">background&nbsp;=&nbsp;None,</div></div><div class=\"5400\" style=\"display: none;\"><div style=\"display: table-cell;\"></div><div style=\"display: table-cell;\">children&nbsp;=&nbsp;[GridBox(id='4888', ...), ToolbarBox(id='4890', ...)],</div></div><div class=\"5400\" style=\"display: none;\"><div style=\"display: table-cell;\"></div><div style=\"display: table-cell;\">cols&nbsp;=&nbsp;'auto',</div></div><div class=\"5400\" style=\"display: none;\"><div style=\"display: table-cell;\"></div><div style=\"display: table-cell;\">css_classes&nbsp;=&nbsp;[],</div></div><div class=\"5400\" style=\"display: none;\"><div style=\"display: table-cell;\"></div><div style=\"display: table-cell;\">disabled&nbsp;=&nbsp;False,</div></div><div class=\"5400\" style=\"display: none;\"><div style=\"display: table-cell;\"></div><div style=\"display: table-cell;\">height&nbsp;=&nbsp;None,</div></div><div class=\"5400\" style=\"display: none;\"><div style=\"display: table-cell;\"></div><div style=\"display: table-cell;\">height_policy&nbsp;=&nbsp;'auto',</div></div><div class=\"5400\" style=\"display: none;\"><div style=\"display: table-cell;\"></div><div style=\"display: table-cell;\">js_event_callbacks&nbsp;=&nbsp;{},</div></div><div class=\"5400\" style=\"display: none;\"><div style=\"display: table-cell;\"></div><div style=\"display: table-cell;\">js_property_callbacks&nbsp;=&nbsp;{},</div></div><div class=\"5400\" style=\"display: none;\"><div style=\"display: table-cell;\"></div><div style=\"display: table-cell;\">margin&nbsp;=&nbsp;(0, 0, 0, 0),</div></div><div class=\"5400\" style=\"display: none;\"><div style=\"display: table-cell;\"></div><div style=\"display: table-cell;\">max_height&nbsp;=&nbsp;None,</div></div><div class=\"5400\" style=\"display: none;\"><div style=\"display: table-cell;\"></div><div style=\"display: table-cell;\">max_width&nbsp;=&nbsp;None,</div></div><div class=\"5400\" style=\"display: none;\"><div style=\"display: table-cell;\"></div><div style=\"display: table-cell;\">min_height&nbsp;=&nbsp;None,</div></div><div class=\"5400\" style=\"display: none;\"><div style=\"display: table-cell;\"></div><div style=\"display: table-cell;\">min_width&nbsp;=&nbsp;None,</div></div><div class=\"5400\" style=\"display: none;\"><div style=\"display: table-cell;\"></div><div style=\"display: table-cell;\">name&nbsp;=&nbsp;None,</div></div><div class=\"5400\" style=\"display: none;\"><div style=\"display: table-cell;\"></div><div style=\"display: table-cell;\">sizing_mode&nbsp;=&nbsp;'stretch_width',</div></div><div class=\"5400\" style=\"display: none;\"><div style=\"display: table-cell;\"></div><div style=\"display: table-cell;\">spacing&nbsp;=&nbsp;0,</div></div><div class=\"5400\" style=\"display: none;\"><div style=\"display: table-cell;\"></div><div style=\"display: table-cell;\">subscribed_events&nbsp;=&nbsp;[],</div></div><div class=\"5400\" style=\"display: none;\"><div style=\"display: table-cell;\"></div><div style=\"display: table-cell;\">syncable&nbsp;=&nbsp;True,</div></div><div class=\"5400\" style=\"display: none;\"><div style=\"display: table-cell;\"></div><div style=\"display: table-cell;\">tags&nbsp;=&nbsp;[],</div></div><div class=\"5400\" style=\"display: none;\"><div style=\"display: table-cell;\"></div><div style=\"display: table-cell;\">visible&nbsp;=&nbsp;True,</div></div><div class=\"5400\" style=\"display: none;\"><div style=\"display: table-cell;\"></div><div style=\"display: table-cell;\">width&nbsp;=&nbsp;None,</div></div><div class=\"5400\" style=\"display: none;\"><div style=\"display: table-cell;\"></div><div style=\"display: table-cell;\">width_policy&nbsp;=&nbsp;'auto')</div></div></div>\n",
       "<script>\n",
       "(function() {\n",
       "  let expanded = false;\n",
       "  const ellipsis = document.getElementById(\"5401\");\n",
       "  ellipsis.addEventListener(\"click\", function() {\n",
       "    const rows = document.getElementsByClassName(\"5400\");\n",
       "    for (let i = 0; i < rows.length; i++) {\n",
       "      const el = rows[i];\n",
       "      el.style.display = expanded ? \"none\" : \"table-row\";\n",
       "    }\n",
       "    ellipsis.innerHTML = expanded ? \"&hellip;)\" : \"&lsaquo;&lsaquo;&lsaquo;\";\n",
       "    expanded = !expanded;\n",
       "  });\n",
       "})();\n",
       "</script>\n"
      ],
      "text/plain": [
       "Row(id='4891', ...)"
      ]
     },
     "execution_count": 14,
     "metadata": {},
     "output_type": "execute_result"
    }
   ],
   "source": [
    "bt.plot()\n"
   ]
  },
  {
   "cell_type": "code",
   "execution_count": 15,
   "metadata": {},
   "outputs": [
    {
     "data": {
      "application/vnd.jupyter.widget-view+json": {
       "model_id": "0d3208550587405da1fb7fdaba9a1344",
       "version_major": 2,
       "version_minor": 0
      },
      "text/plain": [
       "  0%|          | 0/10 [00:00<?, ?it/s]"
      ]
     },
     "metadata": {},
     "output_type": "display_data"
    },
    {
     "data": {
      "text/html": [
       "<div style=\"display: table;\"><div style=\"display: table-row;\"><div style=\"display: table-cell;\"><b title=\"bokeh.models.layouts.Row\">Row</b>(</div><div style=\"display: table-cell;\">id&nbsp;=&nbsp;'5771', <span id=\"6281\" style=\"cursor: pointer;\">&hellip;)</span></div></div><div class=\"6280\" style=\"display: none;\"><div style=\"display: table-cell;\"></div><div style=\"display: table-cell;\">align&nbsp;=&nbsp;'start',</div></div><div class=\"6280\" style=\"display: none;\"><div style=\"display: table-cell;\"></div><div style=\"display: table-cell;\">aspect_ratio&nbsp;=&nbsp;None,</div></div><div class=\"6280\" style=\"display: none;\"><div style=\"display: table-cell;\"></div><div style=\"display: table-cell;\">background&nbsp;=&nbsp;None,</div></div><div class=\"6280\" style=\"display: none;\"><div style=\"display: table-cell;\"></div><div style=\"display: table-cell;\">children&nbsp;=&nbsp;[GridBox(id='5768', ...), ToolbarBox(id='5770', ...)],</div></div><div class=\"6280\" style=\"display: none;\"><div style=\"display: table-cell;\"></div><div style=\"display: table-cell;\">cols&nbsp;=&nbsp;'auto',</div></div><div class=\"6280\" style=\"display: none;\"><div style=\"display: table-cell;\"></div><div style=\"display: table-cell;\">css_classes&nbsp;=&nbsp;[],</div></div><div class=\"6280\" style=\"display: none;\"><div style=\"display: table-cell;\"></div><div style=\"display: table-cell;\">disabled&nbsp;=&nbsp;False,</div></div><div class=\"6280\" style=\"display: none;\"><div style=\"display: table-cell;\"></div><div style=\"display: table-cell;\">height&nbsp;=&nbsp;None,</div></div><div class=\"6280\" style=\"display: none;\"><div style=\"display: table-cell;\"></div><div style=\"display: table-cell;\">height_policy&nbsp;=&nbsp;'auto',</div></div><div class=\"6280\" style=\"display: none;\"><div style=\"display: table-cell;\"></div><div style=\"display: table-cell;\">js_event_callbacks&nbsp;=&nbsp;{},</div></div><div class=\"6280\" style=\"display: none;\"><div style=\"display: table-cell;\"></div><div style=\"display: table-cell;\">js_property_callbacks&nbsp;=&nbsp;{},</div></div><div class=\"6280\" style=\"display: none;\"><div style=\"display: table-cell;\"></div><div style=\"display: table-cell;\">margin&nbsp;=&nbsp;(0, 0, 0, 0),</div></div><div class=\"6280\" style=\"display: none;\"><div style=\"display: table-cell;\"></div><div style=\"display: table-cell;\">max_height&nbsp;=&nbsp;None,</div></div><div class=\"6280\" style=\"display: none;\"><div style=\"display: table-cell;\"></div><div style=\"display: table-cell;\">max_width&nbsp;=&nbsp;None,</div></div><div class=\"6280\" style=\"display: none;\"><div style=\"display: table-cell;\"></div><div style=\"display: table-cell;\">min_height&nbsp;=&nbsp;None,</div></div><div class=\"6280\" style=\"display: none;\"><div style=\"display: table-cell;\"></div><div style=\"display: table-cell;\">min_width&nbsp;=&nbsp;None,</div></div><div class=\"6280\" style=\"display: none;\"><div style=\"display: table-cell;\"></div><div style=\"display: table-cell;\">name&nbsp;=&nbsp;None,</div></div><div class=\"6280\" style=\"display: none;\"><div style=\"display: table-cell;\"></div><div style=\"display: table-cell;\">sizing_mode&nbsp;=&nbsp;'stretch_width',</div></div><div class=\"6280\" style=\"display: none;\"><div style=\"display: table-cell;\"></div><div style=\"display: table-cell;\">spacing&nbsp;=&nbsp;0,</div></div><div class=\"6280\" style=\"display: none;\"><div style=\"display: table-cell;\"></div><div style=\"display: table-cell;\">subscribed_events&nbsp;=&nbsp;[],</div></div><div class=\"6280\" style=\"display: none;\"><div style=\"display: table-cell;\"></div><div style=\"display: table-cell;\">syncable&nbsp;=&nbsp;True,</div></div><div class=\"6280\" style=\"display: none;\"><div style=\"display: table-cell;\"></div><div style=\"display: table-cell;\">tags&nbsp;=&nbsp;[],</div></div><div class=\"6280\" style=\"display: none;\"><div style=\"display: table-cell;\"></div><div style=\"display: table-cell;\">visible&nbsp;=&nbsp;True,</div></div><div class=\"6280\" style=\"display: none;\"><div style=\"display: table-cell;\"></div><div style=\"display: table-cell;\">width&nbsp;=&nbsp;None,</div></div><div class=\"6280\" style=\"display: none;\"><div style=\"display: table-cell;\"></div><div style=\"display: table-cell;\">width_policy&nbsp;=&nbsp;'auto')</div></div></div>\n",
       "<script>\n",
       "(function() {\n",
       "  let expanded = false;\n",
       "  const ellipsis = document.getElementById(\"6281\");\n",
       "  ellipsis.addEventListener(\"click\", function() {\n",
       "    const rows = document.getElementsByClassName(\"6280\");\n",
       "    for (let i = 0; i < rows.length; i++) {\n",
       "      const el = rows[i];\n",
       "      el.style.display = expanded ? \"none\" : \"table-row\";\n",
       "    }\n",
       "    ellipsis.innerHTML = expanded ? \"&hellip;)\" : \"&lsaquo;&lsaquo;&lsaquo;\";\n",
       "    expanded = !expanded;\n",
       "  });\n",
       "})();\n",
       "</script>\n"
      ],
      "text/plain": [
       "Row(id='5771', ...)"
      ]
     },
     "execution_count": 15,
     "metadata": {},
     "output_type": "execute_result"
    }
   ],
   "source": [
    "optim = bt.optimize(n1 = range(20, 130, 10),\n",
    "                    n2 = range (20, 130, 10),\n",
    "                    constraint = lambda x: x.n2 - x.n1 >= 5,\n",
    "                    maximize = 'Return [%]')\n",
    "bt.plot()"
   ]
  },
  {
   "cell_type": "code",
   "execution_count": 16,
   "metadata": {},
   "outputs": [
    {
     "data": {
      "text/plain": [
       "Start                                     0.0\n",
       "End                                    3614.0\n",
       "Duration                               3614.0\n",
       "Exposure Time [%]                   90.041494\n",
       "Equity Final [$]                  118620.2061\n",
       "Equity Peak [$]                  119490.52492\n",
       "Return [%]                          18.620206\n",
       "Buy & Hold Return [%]               10.770687\n",
       "Return (Ann.) [%]                         0.0\n",
       "Volatility (Ann.) [%]                     NaN\n",
       "Sharpe Ratio                              NaN\n",
       "Sortino Ratio                             NaN\n",
       "Calmar Ratio                              0.0\n",
       "Max. Drawdown [%]                   -8.602632\n",
       "Avg. Drawdown [%]                   -0.547957\n",
       "Max. Drawdown Duration                 1573.0\n",
       "Avg. Drawdown Duration              54.101695\n",
       "# Trades                                 23.0\n",
       "Win Rate [%]                        43.478261\n",
       "Best Trade [%]                       7.948826\n",
       "Worst Trade [%]                     -1.143578\n",
       "Avg. Trade [%]                       0.752355\n",
       "Max. Trade Duration                     397.0\n",
       "Avg. Trade Duration                141.478261\n",
       "Profit Factor                        3.104409\n",
       "Expectancy [%]                       0.780004\n",
       "SQN                                  1.482216\n",
       "_strategy                 SMAcross(n1=20,n...\n",
       "_equity_curve                        Equit...\n",
       "_trades                       Size  EntryB...\n",
       "dtype: object"
      ]
     },
     "execution_count": 16,
     "metadata": {},
     "output_type": "execute_result"
    }
   ],
   "source": [
    "optim"
   ]
  },
  {
   "cell_type": "code",
   "execution_count": null,
   "metadata": {},
   "outputs": [],
   "source": []
  }
 ],
 "metadata": {
  "kernelspec": {
   "display_name": "base",
   "language": "python",
   "name": "python3"
  },
  "language_info": {
   "codemirror_mode": {
    "name": "ipython",
    "version": 3
   },
   "file_extension": ".py",
   "mimetype": "text/x-python",
   "name": "python",
   "nbconvert_exporter": "python",
   "pygments_lexer": "ipython3",
   "version": "3.10.9"
  },
  "orig_nbformat": 4
 },
 "nbformat": 4,
 "nbformat_minor": 2
}
