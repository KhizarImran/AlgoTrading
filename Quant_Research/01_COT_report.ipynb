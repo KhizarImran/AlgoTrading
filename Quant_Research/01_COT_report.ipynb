{
 "cells": [
  {
   "cell_type": "markdown",
   "metadata": {},
   "source": [
    "# COT Reports \n",
    "\n",
    "Looking to make a data pipeline using CFTC API of downloading COT reports and feeding it into either CSV files or MySQL. This can be used to make a host dashboards using PowerBI to display the latest information."
   ]
  },
  {
   "cell_type": "code",
   "execution_count": 2,
   "metadata": {},
   "outputs": [],
   "source": [
    "# Importing Libraries\n",
    "\n",
    "import pandas as pd\n",
    "from datetime import datetime\n",
    "import matplotlib.pyplot as plt\n",
    "from matplotlib import cycler\n",
    "import numpy as np\n",
    "import cot_reports as cot\n"
   ]
  },
  {
   "cell_type": "code",
   "execution_count": 3,
   "metadata": {},
   "outputs": [
    {
     "name": "stdout",
     "output_type": "stream",
     "text": [
      "Selected: COT Traders in Financial Futures report. Futures and Options.\n",
      "Stored the extracted file C_TFF_2006_2016.txt in the working directory.\n",
      "Selected: traders_in_financial_futures_fut\n",
      "Downloaded single year data from: 2020\n",
      "Stored the file FinFutYY.txt in the working directory.\n",
      "Selected: legacy_futopt\n",
      "Downloaded single year data from: 2017\n",
      "Stored the file annualof.txt in the working directory.\n",
      "Selected: legacy_futopt\n"
     ]
    },
    {
     "name": "stderr",
     "output_type": "stream",
     "text": [
      "C:\\Users\\User\\AppData\\Local\\Temp\\ipykernel_26896\\2769098759.py:15: FutureWarning: The frame.append method is deprecated and will be removed from pandas in a future version. Use pandas.concat instead.\n",
      "  df = df.append(single_year, ignore_index=True)\n"
     ]
    },
    {
     "name": "stdout",
     "output_type": "stream",
     "text": [
      "Downloaded single year data from: 2018\n",
      "Stored the file annualof.txt in the working directory.\n",
      "Selected: legacy_futopt\n"
     ]
    },
    {
     "name": "stderr",
     "output_type": "stream",
     "text": [
      "C:\\Users\\User\\AppData\\Local\\Temp\\ipykernel_26896\\2769098759.py:15: FutureWarning: The frame.append method is deprecated and will be removed from pandas in a future version. Use pandas.concat instead.\n",
      "  df = df.append(single_year, ignore_index=True)\n"
     ]
    },
    {
     "name": "stdout",
     "output_type": "stream",
     "text": [
      "Downloaded single year data from: 2019\n",
      "Stored the file annualof.txt in the working directory.\n",
      "Selected: legacy_futopt\n"
     ]
    },
    {
     "name": "stderr",
     "output_type": "stream",
     "text": [
      "C:\\Users\\User\\AppData\\Local\\Temp\\ipykernel_26896\\2769098759.py:15: FutureWarning: The frame.append method is deprecated and will be removed from pandas in a future version. Use pandas.concat instead.\n",
      "  df = df.append(single_year, ignore_index=True)\n"
     ]
    },
    {
     "name": "stdout",
     "output_type": "stream",
     "text": [
      "Downloaded single year data from: 2020\n",
      "Stored the file annualof.txt in the working directory.\n",
      "Selected: COT Legacy report. Futures only.\n"
     ]
    },
    {
     "name": "stderr",
     "output_type": "stream",
     "text": [
      "C:\\Users\\User\\AppData\\Local\\Temp\\ipykernel_26896\\2769098759.py:15: FutureWarning: The frame.append method is deprecated and will be removed from pandas in a future version. Use pandas.concat instead.\n",
      "  df = df.append(single_year, ignore_index=True)\n"
     ]
    },
    {
     "name": "stdout",
     "output_type": "stream",
     "text": [
      "Stored the extracted file FUT86_16.txt in the working directory.\n",
      "Selected: legacy_fut\n",
      "Downloaded single year data from: 2017\n",
      "Stored the file annual.txt in the working directory.\n",
      "Selected: legacy_fut\n",
      "Downloaded single year data from: 2018\n",
      "Stored the file annual.txt in the working directory.\n",
      "Selected: legacy_fut\n",
      "Downloaded single year data from: 2019\n",
      "Stored the file annual.txt in the working directory.\n",
      "Selected: legacy_fut\n",
      "Downloaded single year data from: 2020\n",
      "Stored the file annual.txt in the working directory.\n",
      "Selected: legacy_fut\n",
      "Downloaded single year data from: 2021\n",
      "Stored the file annual.txt in the working directory.\n",
      "Selected: legacy_fut\n",
      "Downloaded single year data from: 2022\n",
      "Stored the file annual.txt in the working directory.\n",
      "Selected: legacy_fut\n",
      "Downloaded single year data from: 2023\n",
      "Stored the file annual.txt in the working directory.\n",
      "Selected: legacy_fut\n",
      "Downloaded single year data from: 2024\n",
      "Stored the file annual.txt in the working directory.\n"
     ]
    }
   ],
   "source": [
    "\n",
    "# Example: cot_hist()\n",
    "df = cot.cot_hist(cot_report_type= 'traders_in_financial_futures_futopt')\n",
    "# cot_hist() downloads the historical bulk file for the specified report type, in this example the Traders in Financial Futures Futures-and-Options Combined report. Returns the data as dataframe.\n",
    "\n",
    "# Example: cot_year()\n",
    "df = cot.cot_year(year = 2020, cot_report_type = 'traders_in_financial_futures_fut')\n",
    "# cot_year() downloads the single year file of the specified report type and year. Returns the data as dataframe.\n",
    "\n",
    "# Example for collecting data of a few years, here from 2017 to 2020, of a specified report:\n",
    "df = pd.DataFrame()\n",
    "begin_year = 2017\n",
    "end_year = 2020\n",
    "for i in range(begin_year, end_year + 1):\n",
    "    single_year = pd.DataFrame(cot.cot_year(i, cot_report_type='legacy_futopt')) \n",
    "    df = df.append(single_year, ignore_index=True)\n",
    "\n",
    "# Example: cot_all()\n",
    "df = cot.cot_all(cot_report_type='legacy_fut')\n",
    "# cot_all() downloads the historical bulk file and all remaining single year files of the specified report type.  Returns the data as dataframe."
   ]
  },
  {
   "cell_type": "code",
   "execution_count": null,
   "metadata": {},
   "outputs": [],
   "source": []
  }
 ],
 "metadata": {
  "kernelspec": {
   "display_name": "base",
   "language": "python",
   "name": "python3"
  },
  "language_info": {
   "codemirror_mode": {
    "name": "ipython",
    "version": 3
   },
   "file_extension": ".py",
   "mimetype": "text/x-python",
   "name": "python",
   "nbconvert_exporter": "python",
   "pygments_lexer": "ipython3",
   "version": "3.10.9"
  }
 },
 "nbformat": 4,
 "nbformat_minor": 2
}
