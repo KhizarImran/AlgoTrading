{
 "cells": [
  {
   "cell_type": "markdown",
   "metadata": {},
   "source": [
    "## Hourly Range Trading"
   ]
  },
  {
   "cell_type": "markdown",
   "metadata": {},
   "source": [
    "### Thesis \n",
    "\n",
    "Look at hourly candles for the 24hrs of the trading day to find out lowest volume hours that are in market hours, i.e. ranging markets in low spread conditions. this would be an ideal timeframe for implementing a scalping algorithm which benefits on these sideways conditions."
   ]
  },
  {
   "cell_type": "code",
   "execution_count": 126,
   "metadata": {},
   "outputs": [
    {
     "data": {
      "text/plain": [
       "'\\nSymbol: EURUSD\\nStart                     2024-04-01 00:10:00\\nEnd                       2024-05-31 23:55:00\\nDuration                     60 days 23:45:00\\nExposure Time [%]                   95.389027\\nEquity Final [$]                  10001.17272\\nEquity Peak [$]                   10003.84072\\nReturn [%]                           0.011727\\nBuy & Hold Return [%]                0.515177\\nReturn (Ann.) [%]                     0.06569\\nVolatility (Ann.) [%]                0.058499\\nSharpe Ratio                         1.122935\\nSortino Ratio                        1.813411\\nCalmar Ratio                         2.208916\\nMax. Drawdown [%]                   -0.029739\\nAvg. Drawdown [%]                   -0.001399\\nMax. Drawdown Duration       16 days 09:20:00\\nAvg. Drawdown Duration        0 days 14:14:00\\n# Trades                                   41\\nWin Rate [%]                        46.341463\\nBest Trade [%]                       1.081212\\nWorst Trade [%]                          -1.0\\nAvg. Trade [%]                       0.026706\\nMax. Trade Duration           4 days 23:35:00\\nAvg. Trade Duration           1 days 09:19:00\\n\\n'"
      ]
     },
     "execution_count": 126,
     "metadata": {},
     "output_type": "execute_result"
    }
   ],
   "source": [
    "\"\"\"\n",
    "Symbol: EURUSD\n",
    "Start                     2024-04-01 00:10:00\n",
    "End                       2024-05-31 23:55:00\n",
    "Duration                     60 days 23:45:00\n",
    "Exposure Time [%]                   95.389027\n",
    "Equity Final [$]                  10001.17272\n",
    "Equity Peak [$]                   10003.84072\n",
    "Return [%]                           0.011727\n",
    "Buy & Hold Return [%]                0.515177\n",
    "Return (Ann.) [%]                     0.06569\n",
    "Volatility (Ann.) [%]                0.058499\n",
    "Sharpe Ratio                         1.122935\n",
    "Sortino Ratio                        1.813411\n",
    "Calmar Ratio                         2.208916\n",
    "Max. Drawdown [%]                   -0.029739\n",
    "Avg. Drawdown [%]                   -0.001399\n",
    "Max. Drawdown Duration       16 days 09:20:00\n",
    "Avg. Drawdown Duration        0 days 14:14:00\n",
    "# Trades                                   41\n",
    "Win Rate [%]                        46.341463\n",
    "Best Trade [%]                       1.081212\n",
    "Worst Trade [%]                          -1.0\n",
    "Avg. Trade [%]                       0.026706\n",
    "Max. Trade Duration           4 days 23:35:00\n",
    "Avg. Trade Duration           1 days 09:19:00\n",
    "\n",
    "\"\"\""
   ]
  },
  {
   "cell_type": "code",
   "execution_count": 127,
   "metadata": {},
   "outputs": [],
   "source": [
    "import MetaTrader5 as mt5\n",
    "import pandas as pd\n",
    "from backtesting import Backtest, Strategy\n",
    "import ta\n",
    "from datetime import datetime\n",
    "import matplotlib.pyplot as plt \n",
    "plt.style.use('dark_background')\n",
    "# Initialize MetaTrader 5\n",
    "mt5.initialize()\n",
    "\n",
    "# Settings\n",
    "symbols = 'EURUSD'\n",
    "timeframe = mt5.TIMEFRAME_H1\n",
    "start_date = datetime(2024, 1, 1)\n",
    "end_time = datetime.now()\n",
    "\n",
    "\n",
    "# Function to get data from MetaTrader 5\n",
    "def get_data(symbol, timeframe, start_date, end_time):\n",
    "    rates = mt5.copy_rates_range(symbol, timeframe, start_date, end_time)\n",
    "    df = pd.DataFrame(rates)\n",
    "    df = df[['time', 'open', 'high', 'low', 'close']]\n",
    "    df['time'] = pd.to_datetime(df['time'], unit='s')\n",
    "    df.set_index('time', inplace=True)\n",
    "    return df\n",
    "\n",
    "def calculate_range(symbols, timeframe, start_date, end_time):\n",
    "    data = get_data(symbols, timeframe, start_date, end_time)\n",
    "    data['range'] = data['high'] - data['low']\n",
    "    return data\n",
    "\n",
    "def generate_signal(data):\n",
    "    # Calculate Bollinger Bands\n",
    "    data['Upper_BB'] = ta.volatility.bollinger_hband(data['close'], window=20)\n",
    "    data['Lower_BB'] = ta.volatility.bollinger_lband(data['close'], window=20)\n",
    "    data['Signals'] = 0\n",
    "    \n",
    "    for i in range(1, len(data)):\n",
    "        # Long signal: when close price is below the lower Bollinger Band\n",
    "        if (data['close'].iloc[i] < data['Lower_BB'].iloc[i]) and (data['close'].iloc[i-1] >= data['Lower_BB'].iloc[i-1]):\n",
    "            data.at[data.index[i], 'Signals'] = 1\n",
    "        # Short signal: when close price is above the upper Bollinger Band\n",
    "        elif (data['close'].iloc[i] > data['Upper_BB'].iloc[i]) and (data['close'].iloc[i-1] <= data['Upper_BB'].iloc[i-1]):\n",
    "            data.at[data.index[i], 'Signals'] = -1\n",
    "        else:\n",
    "            data.at[data.index[i], 'Signals'] = 0\n",
    "        \n",
    "    return data\n",
    "\n",
    "def SIGNAL(data):\n",
    "    return data['Signals']\n",
    "\n",
    "\n",
    "data = calculate_range(symbols, timeframe, start_date, end_time)\n",
    "\n",
    "data_5min = calculate_range(symbols, mt5.TIMEFRAME_M1, datetime(2024, 5, 26), datetime(2024, 6, 1))\n",
    "data_5min['hour'] = data_5min.index.hour\n",
    "\n",
    "data_gen_signal = generate_signal(data_5min)"
   ]
  },
  {
   "cell_type": "markdown",
   "metadata": {},
   "source": [
    "Displaying a boxplot to show the distribution of the range of the hourly candles, for further dissection "
   ]
  },
  {
   "cell_type": "code",
   "execution_count": 129,
   "metadata": {},
   "outputs": [
    {
     "data": {
      "text/plain": [
       "<Figure size 1200x1600 with 0 Axes>"
      ]
     },
     "metadata": {},
     "output_type": "display_data"
    },
    {
     "data": {
      "image/png": "[encoded data removed]",
      "text/plain": [
       "<Figure size 640x480 with 1 Axes>"
      ]
     },
     "metadata": {},
     "output_type": "display_data"
    }
   ],
   "source": [
    "\n",
    "# Extract the hour from the index and group by hour\n",
    "data['hour'] = data.index.hour\n",
    "\n",
    "# Create a boxplot\n",
    "plt.figure(figsize=(12, 16))\n",
    "data.boxplot(column='range', by='hour', grid=False)\n",
    "plt.title(f'Range of Hourly Candles for {symbols}')\n",
    "plt.suptitle('')  # Suppress the automatic 'Boxplot grouped by hour' title\n",
    "plt.xlabel('Hour of the Day')\n",
    "plt.ylabel('range')\n",
    "plt.show()\n"
   ]
  },
  {
   "cell_type": "code",
   "execution_count": 130,
   "metadata": {},
   "outputs": [],
   "source": [
    "class hourlyrange(Strategy):\n",
    "    initsize = 10000.0\n",
    "    mysize = initsize\n",
    "    def init(self):\n",
    "        super().init()\n",
    "        self.signal1 = self.I(SIGNAL, self.data.df)\n",
    "        \n",
    "    def next(self):\n",
    "        super().next()\n",
    "        pip_value = 0.0001\n",
    "        # Mean reversion vs Trending\n",
    "        if self.data.hour[-1] == 8 and self.signal1[-1] == 1:\n",
    "            sl1 = self.data.Close[-1] - (1.5 * pip_value)\n",
    "            tp1 = self.data.Close[-1] + (4.5 * pip_value)\n",
    "            self.buy(sl=sl1, tp=tp1, size=self.mysize)\n",
    "        elif self.data.hour[-1] == 8 and self.signal1[-1] == -1:\n",
    "            sl1 = self.data.Close[-1] + (1.5 * pip_value)\n",
    "            tp1 = self.data.Close[-1] - (4.5 * pip_value)\n",
    "            self.sell(sl=sl1, tp=tp1, size=self.mysize)\n"
   ]
  },
  {
   "cell_type": "code",
   "execution_count": 131,
   "metadata": {},
   "outputs": [
    {
     "name": "stderr",
     "output_type": "stream",
     "text": [
      "c:\\Users\\User\\anaconda3\\anaconda_3\\lib\\site-packages\\backtesting\\_stats.py:122: RuntimeWarning: divide by zero encountered in double_scalars\n",
      "  s.loc['Sortino Ratio'] = np.clip((annualized_return - risk_free_rate) / (np.sqrt(np.mean(day_returns.clip(-np.inf, 0)**2)) * np.sqrt(annual_trading_days)), 0, np.inf)  # noqa: E501\n"
     ]
    },
    {
     "name": "stdout",
     "output_type": "stream",
     "text": [
      "Symbol: EURUSD\n",
      "Start                     2024-05-27 00:10:00\n",
      "End                       2024-05-31 23:00:00\n",
      "Duration                      4 days 22:50:00\n",
      "Exposure Time [%]                    4.303797\n",
      "Equity Final [$]                      10017.0\n",
      "Equity Peak [$]                       10017.0\n",
      "Return [%]                               0.17\n",
      "Buy & Hold Return [%]                0.039643\n",
      "Return (Ann.) [%]                    6.013748\n",
      "Volatility (Ann.) [%]                0.065797\n",
      "Sharpe Ratio                        91.399079\n",
      "Sortino Ratio                             inf\n",
      "Calmar Ratio                       128.055731\n",
      "Max. Drawdown [%]                   -0.046962\n",
      "Avg. Drawdown [%]                   -0.011798\n",
      "Max. Drawdown Duration        1 days 00:01:00\n",
      "Avg. Drawdown Duration        0 days 01:20:00\n",
      "# Trades                                   20\n",
      "Win Rate [%]                             40.0\n",
      "Best Trade [%]                       0.041709\n",
      "Worst Trade [%]                     -0.013899\n",
      "Avg. Trade [%]                       0.007842\n",
      "Max. Trade Duration           0 days 00:33:00\n",
      "Avg. Trade Duration           0 days 00:15:00\n",
      "Profit Factor                        2.790131\n",
      "Expectancy [%]                       0.007844\n",
      "SQN                                  1.637502\n",
      "_strategy                         hourlyrange\n",
      "_equity_curve                             ...\n",
      "_trades                        Size  Entry...\n",
      "dtype: object\n",
      "--------------------------------------------------\n"
     ]
    },
    {
     "data": {
      "text/html": [
       "<div style=\"display: table;\"><div style=\"display: table-row;\"><div style=\"display: table-cell;\"><b title=\"bokeh.models.layouts.Row\">Row</b>(</div><div style=\"display: table-cell;\">id&nbsp;=&nbsp;'9874', <span id=\"10514\" style=\"cursor: pointer;\">&hellip;)</span></div></div><div class=\"10513\" style=\"display: none;\"><div style=\"display: table-cell;\"></div><div style=\"display: table-cell;\">align&nbsp;=&nbsp;'start',</div></div><div class=\"10513\" style=\"display: none;\"><div style=\"display: table-cell;\"></div><div style=\"display: table-cell;\">aspect_ratio&nbsp;=&nbsp;None,</div></div><div class=\"10513\" style=\"display: none;\"><div style=\"display: table-cell;\"></div><div style=\"display: table-cell;\">background&nbsp;=&nbsp;None,</div></div><div class=\"10513\" style=\"display: none;\"><div style=\"display: table-cell;\"></div><div style=\"display: table-cell;\">children&nbsp;=&nbsp;[GridBox(id='9871', ...), ToolbarBox(id='9873', ...)],</div></div><div class=\"10513\" style=\"display: none;\"><div style=\"display: table-cell;\"></div><div style=\"display: table-cell;\">cols&nbsp;=&nbsp;'auto',</div></div><div class=\"10513\" style=\"display: none;\"><div style=\"display: table-cell;\"></div><div style=\"display: table-cell;\">css_classes&nbsp;=&nbsp;[],</div></div><div class=\"10513\" style=\"display: none;\"><div style=\"display: table-cell;\"></div><div style=\"display: table-cell;\">disabled&nbsp;=&nbsp;False,</div></div><div class=\"10513\" style=\"display: none;\"><div style=\"display: table-cell;\"></div><div style=\"display: table-cell;\">height&nbsp;=&nbsp;None,</div></div><div class=\"10513\" style=\"display: none;\"><div style=\"display: table-cell;\"></div><div style=\"display: table-cell;\">height_policy&nbsp;=&nbsp;'auto',</div></div><div class=\"10513\" style=\"display: none;\"><div style=\"display: table-cell;\"></div><div style=\"display: table-cell;\">js_event_callbacks&nbsp;=&nbsp;{},</div></div><div class=\"10513\" style=\"display: none;\"><div style=\"display: table-cell;\"></div><div style=\"display: table-cell;\">js_property_callbacks&nbsp;=&nbsp;{},</div></div><div class=\"10513\" style=\"display: none;\"><div style=\"display: table-cell;\"></div><div style=\"display: table-cell;\">margin&nbsp;=&nbsp;(0, 0, 0, 0),</div></div><div class=\"10513\" style=\"display: none;\"><div style=\"display: table-cell;\"></div><div style=\"display: table-cell;\">max_height&nbsp;=&nbsp;None,</div></div><div class=\"10513\" style=\"display: none;\"><div style=\"display: table-cell;\"></div><div style=\"display: table-cell;\">max_width&nbsp;=&nbsp;None,</div></div><div class=\"10513\" style=\"display: none;\"><div style=\"display: table-cell;\"></div><div style=\"display: table-cell;\">min_height&nbsp;=&nbsp;None,</div></div><div class=\"10513\" style=\"display: none;\"><div style=\"display: table-cell;\"></div><div style=\"display: table-cell;\">min_width&nbsp;=&nbsp;None,</div></div><div class=\"10513\" style=\"display: none;\"><div style=\"display: table-cell;\"></div><div style=\"display: table-cell;\">name&nbsp;=&nbsp;None,</div></div><div class=\"10513\" style=\"display: none;\"><div style=\"display: table-cell;\"></div><div style=\"display: table-cell;\">sizing_mode&nbsp;=&nbsp;'stretch_width',</div></div><div class=\"10513\" style=\"display: none;\"><div style=\"display: table-cell;\"></div><div style=\"display: table-cell;\">spacing&nbsp;=&nbsp;0,</div></div><div class=\"10513\" style=\"display: none;\"><div style=\"display: table-cell;\"></div><div style=\"display: table-cell;\">subscribed_events&nbsp;=&nbsp;[],</div></div><div class=\"10513\" style=\"display: none;\"><div style=\"display: table-cell;\"></div><div style=\"display: table-cell;\">syncable&nbsp;=&nbsp;True,</div></div><div class=\"10513\" style=\"display: none;\"><div style=\"display: table-cell;\"></div><div style=\"display: table-cell;\">tags&nbsp;=&nbsp;[],</div></div><div class=\"10513\" style=\"display: none;\"><div style=\"display: table-cell;\"></div><div style=\"display: table-cell;\">visible&nbsp;=&nbsp;True,</div></div><div class=\"10513\" style=\"display: none;\"><div style=\"display: table-cell;\"></div><div style=\"display: table-cell;\">width&nbsp;=&nbsp;None,</div></div><div class=\"10513\" style=\"display: none;\"><div style=\"display: table-cell;\"></div><div style=\"display: table-cell;\">width_policy&nbsp;=&nbsp;'auto')</div></div></div>\n",
       "<script>\n",
       "(function() {\n",
       "  let expanded = false;\n",
       "  const ellipsis = document.getElementById(\"10514\");\n",
       "  ellipsis.addEventListener(\"click\", function() {\n",
       "    const rows = document.getElementsByClassName(\"10513\");\n",
       "    for (let i = 0; i < rows.length; i++) {\n",
       "      const el = rows[i];\n",
       "      el.style.display = expanded ? \"none\" : \"table-row\";\n",
       "    }\n",
       "    ellipsis.innerHTML = expanded ? \"&hellip;)\" : \"&lsaquo;&lsaquo;&lsaquo;\";\n",
       "    expanded = !expanded;\n",
       "  });\n",
       "})();\n",
       "</script>\n"
      ],
      "text/plain": [
       "Row(id='9874', ...)"
      ]
     },
     "execution_count": 131,
     "metadata": {},
     "output_type": "execute_result"
    }
   ],
   "source": [
    "data_gen_signal.rename(columns={'open': 'Open', 'high': 'High', 'low': 'Low', 'close': 'Close'}, inplace=True)\n",
    "\n",
    "# Conduct backtest\n",
    "bt = Backtest(data_gen_signal, hourlyrange, cash=10000, exclusive_orders=True, margin=1/100)\n",
    "\n",
    "# Outputs\n",
    "output = bt.run()\n",
    "print(f\"Symbol: {symbols}\")\n",
    "print(output)\n",
    "print('-' * 50)\n",
    "bt.plot()"
   ]
  },
  {
   "cell_type": "code",
   "execution_count": null,
   "metadata": {},
   "outputs": [],
   "source": []
  }
 ],
 "metadata": {
  "kernelspec": {
   "display_name": "base",
   "language": "python",
   "name": "python3"
  },
  "language_info": {
   "codemirror_mode": {
    "name": "ipython",
    "version": 3
   },
   "file_extension": ".py",
   "mimetype": "text/x-python",
   "name": "python",
   "nbconvert_exporter": "python",
   "pygments_lexer": "ipython3",
   "version": "3.10.9"
  }
 },
 "nbformat": 4,
 "nbformat_minor": 2
}
