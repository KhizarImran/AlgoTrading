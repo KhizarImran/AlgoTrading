{
 "cells": [
  {
   "cell_type": "markdown",
   "metadata": {},
   "source": [
    "## Hourly Range Trading"
   ]
  },
  {
   "cell_type": "markdown",
   "metadata": {},
   "source": [
    "### Thesis \n",
    "\n",
    "Look at hourly candles for the 24hrs of the trading day to find out lowest volume hours that are in market hours, i.e. ranging markets in low spread conditions. this would be an ideal timeframe for implementing a scalping algorithm which benefits on these sideways conditions."
   ]
  },
  {
   "cell_type": "code",
   "execution_count": 209,
   "metadata": {},
   "outputs": [
    {
     "data": {
      "text/plain": [
       "'\\nSymbol: EURGBP\\nStart                     2024-04-01 00:10:00\\nEnd                       2024-05-31 23:00:00\\nDuration                     60 days 22:50:00\\nExposure Time [%]                    8.400714\\nEquity Final [$]                      10045.9\\nEquity Peak [$]                       10045.9\\nReturn [%]                              0.459\\nBuy & Hold Return [%]               -0.340606\\nReturn (Ann.) [%]                    2.643662\\nVolatility (Ann.) [%]                0.455231\\nSharpe Ratio                         5.807292\\nSortino Ratio                       16.158102\\nCalmar Ratio                          20.2563\\nMax. Drawdown [%]                   -0.130511\\nAvg. Drawdown [%]                   -0.011167\\nMax. Drawdown Duration       17 days 23:05:00\\nAvg. Drawdown Duration        0 days 09:42:00\\n# Trades                                  178\\nWin Rate [%]                        41.573034\\nBest Trade [%]                       0.052921\\nWorst Trade [%]                     -0.018615\\nAvg. Trade [%]                       0.003017\\nMax. Trade Duration           0 days 03:41:00\\nAvg. Trade Duration           0 days 00:31:00\\n\\n'"
      ]
     },
     "execution_count": 209,
     "metadata": {},
     "output_type": "execute_result"
    }
   ],
   "source": [
    "\"\"\"\n",
    "Symbol: EURGBP\n",
    "Start                     2024-04-01 00:10:00\n",
    "End                       2024-05-31 23:00:00\n",
    "Duration                     60 days 22:50:00\n",
    "Exposure Time [%]                    8.400714\n",
    "Equity Final [$]                      10045.9\n",
    "Equity Peak [$]                       10045.9\n",
    "Return [%]                              0.459\n",
    "Buy & Hold Return [%]               -0.340606\n",
    "Return (Ann.) [%]                    2.643662\n",
    "Volatility (Ann.) [%]                0.455231\n",
    "Sharpe Ratio                         5.807292\n",
    "Sortino Ratio                       16.158102\n",
    "Calmar Ratio                          20.2563\n",
    "Max. Drawdown [%]                   -0.130511\n",
    "Avg. Drawdown [%]                   -0.011167\n",
    "Max. Drawdown Duration       17 days 23:05:00\n",
    "Avg. Drawdown Duration        0 days 09:42:00\n",
    "# Trades                                  178\n",
    "Win Rate [%]                        41.573034\n",
    "Best Trade [%]                       0.052921\n",
    "Worst Trade [%]                     -0.018615\n",
    "Avg. Trade [%]                       0.003017\n",
    "Max. Trade Duration           0 days 03:41:00\n",
    "Avg. Trade Duration           0 days 00:31:00\n",
    "\n",
    "\"\"\""
   ]
  },
  {
   "cell_type": "code",
   "execution_count": 215,
   "metadata": {},
   "outputs": [],
   "source": [
    "import MetaTrader5 as mt5\n",
    "import pandas as pd\n",
    "from backtesting import Backtest, Strategy\n",
    "import ta\n",
    "from datetime import datetime\n",
    "import matplotlib.pyplot as plt \n",
    "plt.style.use('dark_background')\n",
    "# Initialize MetaTrader 5\n",
    "mt5.initialize()\n",
    "\n",
    "# Settings\n",
    "symbols = 'EURGBP'\n",
    "timeframe = mt5.TIMEFRAME_H1\n",
    "start_date = datetime(2024, 1, 1)\n",
    "end_time = datetime.now()\n",
    "\n",
    "\n",
    "# Function to get data from MetaTrader 5\n",
    "def get_data(symbol, timeframe, start_date, end_time):\n",
    "    rates = mt5.copy_rates_range(symbol, timeframe, start_date, end_time)\n",
    "    df = pd.DataFrame(rates)\n",
    "    df = df[['time', 'open', 'high', 'low', 'close']]\n",
    "    df['time'] = pd.to_datetime(df['time'], unit='s')\n",
    "    df.set_index('time', inplace=True)\n",
    "    return df\n",
    "\n",
    "def calculate_range(symbols, timeframe, start_date, end_time):\n",
    "    data = get_data(symbols, timeframe, start_date, end_time)\n",
    "    data['range'] = data['high'] - data['low']\n",
    "    return data\n",
    "\n",
    "def generate_signal(data):\n",
    "    # Calculate Bollinger Bands\n",
    "    data['Upper_BB'] = ta.volatility.bollinger_hband(data['close'], window=20)\n",
    "    data['Lower_BB'] = ta.volatility.bollinger_lband(data['close'], window=20)\n",
    "    data['Signals'] = 0\n",
    "    \n",
    "    for i in range(1, len(data)):\n",
    "        # Long signal: when close price is below the lower Bollinger Band\n",
    "        if (data['close'].iloc[i] < data['Lower_BB'].iloc[i]) and (data['close'].iloc[i-1] >= data['Lower_BB'].iloc[i-1]):\n",
    "            data.at[data.index[i], 'Signals'] = 1\n",
    "        # Short signal: when close price is above the upper Bollinger Band\n",
    "        elif (data['close'].iloc[i] > data['Upper_BB'].iloc[i]) and (data['close'].iloc[i-1] <= data['Upper_BB'].iloc[i-1]):\n",
    "            data.at[data.index[i], 'Signals'] = -1\n",
    "        else:\n",
    "            data.at[data.index[i], 'Signals'] = 0\n",
    "        \n",
    "    return data\n",
    "\n",
    "def SIGNAL(data):\n",
    "    return data['Signals']\n",
    "\n",
    "\n",
    "data = calculate_range(symbols, timeframe, start_date, end_time)\n",
    "\n",
    "data_5min = calculate_range(symbols, mt5.TIMEFRAME_M1, datetime(2024, 4, 1), datetime(2024, 6, 6))\n",
    "data_5min['hour'] = data_5min.index.hour\n",
    "\n",
    "data_gen_signal = generate_signal(data_5min)"
   ]
  },
  {
   "cell_type": "markdown",
   "metadata": {},
   "source": [
    "Displaying a boxplot to show the distribution of the range of the hourly candles, for further dissection "
   ]
  },
  {
   "cell_type": "code",
   "execution_count": 216,
   "metadata": {},
   "outputs": [
    {
     "data": {
      "text/plain": [
       "<Figure size 1200x1600 with 0 Axes>"
      ]
     },
     "metadata": {},
     "output_type": "display_data"
    },
    {
     "data": {
      "image/png": "[encoded data removed]",
      "text/plain": [
       "<Figure size 640x480 with 1 Axes>"
      ]
     },
     "metadata": {},
     "output_type": "display_data"
    }
   ],
   "source": [
    "\n",
    "# Extract the hour from the index and group by hour\n",
    "data['hour'] = data.index.hour\n",
    "\n",
    "# Create a boxplot\n",
    "plt.figure(figsize=(12, 16))\n",
    "data.boxplot(column='range', by='hour', grid=False)\n",
    "plt.title(f'Range of Hourly Candles for {symbols}')\n",
    "plt.suptitle('')  # Suppress the automatic 'Boxplot grouped by hour' title\n",
    "plt.xlabel('Hour of the Day')\n",
    "plt.ylabel('range')\n",
    "plt.show()\n"
   ]
  },
  {
   "cell_type": "code",
   "execution_count": 217,
   "metadata": {},
   "outputs": [],
   "source": [
    "class hourlyrange(Strategy):\n",
    "    initsize = 100000.0\n",
    "    mysize = initsize\n",
    "    in_position = False\n",
    "    \n",
    "    def init(self):\n",
    "        super().init()\n",
    "        self.signal1 = self.I(SIGNAL, self.data.df, plot= True)\n",
    "        \n",
    "    def next(self):\n",
    "        super().next()\n",
    "        pip_value = 0.0001\n",
    "        \n",
    "        if not self.in_position and self.data.index[-1].hour == 7:\n",
    "            if self.signal1[-1] == 1:\n",
    "                sl1 = self.data.Close[-1] - (1.5 * pip_value)\n",
    "                tp1 = self.data.Close[-1] + (4.5 * pip_value)\n",
    "                self.buy(sl=sl1, tp=tp1, size=self.mysize)\n",
    "                self.in_position = True\n",
    "                \n",
    "            elif self.signal1[-1] == -1:\n",
    "                sl1 = self.data.Close[-1] + (1.5 * pip_value)\n",
    "                tp1 = self.data.Close[-1] - (4.5 * pip_value)\n",
    "                self.sell(sl=sl1, tp=tp1, size=self.mysize)\n",
    "                self.in_position = True\n",
    "        \n",
    "        # Check if position is closed\n",
    "        if self.in_position:\n",
    "            if self.position:\n",
    "                self.in_position = False\n"
   ]
  },
  {
   "cell_type": "code",
   "execution_count": 218,
   "metadata": {},
   "outputs": [
    {
     "name": "stdout",
     "output_type": "stream",
     "text": [
      "Symbol: EURGBP\n",
      "Start                     2024-04-01 00:10:00\n",
      "End                       2024-06-05 23:00:00\n",
      "Duration                     65 days 22:50:00\n",
      "Exposure Time [%]                    8.372858\n",
      "Equity Final [$]                      10532.0\n",
      "Equity Peak [$]                       10532.0\n",
      "Return [%]                               5.32\n",
      "Buy & Hold Return [%]               -0.506812\n",
      "Return (Ann.) [%]                   31.827717\n",
      "Volatility (Ann.) [%]                 5.78962\n",
      "Sharpe Ratio                         5.497376\n",
      "Sortino Ratio                       19.972382\n",
      "Calmar Ratio                        25.207066\n",
      "Max. Drawdown [%]                   -1.262651\n",
      "Avg. Drawdown [%]                   -0.109135\n",
      "Max. Drawdown Duration       17 days 23:05:00\n",
      "Avg. Drawdown Duration        0 days 09:15:00\n",
      "# Trades                                  190\n",
      "Win Rate [%]                        41.052632\n",
      "Best Trade [%]                       0.052921\n",
      "Worst Trade [%]                     -0.018615\n",
      "Avg. Trade [%]                       0.003277\n",
      "Max. Trade Duration           0 days 03:41:00\n",
      "Avg. Trade Duration           0 days 00:31:00\n",
      "Profit Factor                        1.651157\n",
      "Expectancy [%]                       0.003279\n",
      "SQN                                   2.42082\n",
      "_strategy                         hourlyrange\n",
      "_equity_curve                             ...\n",
      "_trades                          Size  Ent...\n",
      "dtype: object\n",
      "--------------------------------------------------\n"
     ]
    }
   ],
   "source": [
    "data_gen_signal.rename(columns={'open': 'Open', 'high': 'High', 'low': 'Low', 'close': 'Close'}, inplace=True)\n",
    "\n",
    "# Conduct backtest\n",
    "bt = Backtest(data_gen_signal, hourlyrange, cash=10000, exclusive_orders=True, margin=1/100)\n",
    "\n",
    "# Outputs\n",
    "output = bt.run()\n",
    "print(f\"Symbol: {symbols}\")\n",
    "print(output)\n",
    "print('-' * 50)"
   ]
  },
  {
   "cell_type": "markdown",
   "metadata": {},
   "source": [
    "EURGBP shows a sharpe ratio of 5.18 over 2 months of data, although this show that it is overfitted, however it shows promising returns."
   ]
  },
  {
   "cell_type": "code",
   "execution_count": null,
   "metadata": {},
   "outputs": [],
   "source": []
  }
 ],
 "metadata": {
  "kernelspec": {
   "display_name": "base",
   "language": "python",
   "name": "python3"
  },
  "language_info": {
   "codemirror_mode": {
    "name": "ipython",
    "version": 3
   },
   "file_extension": ".py",
   "mimetype": "text/x-python",
   "name": "python",
   "nbconvert_exporter": "python",
   "pygments_lexer": "ipython3",
   "version": "3.10.9"
  }
 },
 "nbformat": 4,
 "nbformat_minor": 2
}
