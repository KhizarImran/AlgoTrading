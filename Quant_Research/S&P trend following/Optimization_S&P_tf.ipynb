{
 "cells": [
  {
   "cell_type": "markdown",
   "metadata": {},
   "source": [
    "# S&P500 trend follwing on mt5 \n",
    "\n",
    "Optimizing the indicators to find the best blend\n",
    "\n",
    "\n",
    "\n",
    "### Result\n",
    "\n"
   ]
  },
  {
   "cell_type": "code",
   "execution_count": 1,
   "metadata": {},
   "outputs": [
    {
     "data": {
      "text/plain": [
       "True"
      ]
     },
     "execution_count": 1,
     "metadata": {},
     "output_type": "execute_result"
    }
   ],
   "source": [
    "import MetaTrader5 as mt5\n",
    "import pandas as pd\n",
    "import ta\n",
    "import time\n",
    "from backtesting import Backtest, Strategy\n",
    "from backtesting.lib import crossover\n",
    "from datetime import datetime\n",
    "mt5.initialize()"
   ]
  },
  {
   "cell_type": "code",
   "execution_count": 2,
   "metadata": {},
   "outputs": [],
   "source": [
    "symbol = 'US500'\n",
    "timeframe = mt5.TIMEFRAME_M15\n",
    "start_date = datetime(2023,1,1)\n",
    "end_time = datetime.now()\n",
    "\n",
    "def get_data(symbol, timeframe, start_date, end_time):\n",
    "    rates = mt5.copy_rates_range(symbol, timeframe, start_date, end_time)\n",
    "    df = pd.DataFrame(rates)\n",
    "    df['time'] = pd.to_datetime(df['time'], unit='s')\n",
    "    df.set_index('time', inplace=True)\n",
    "    df.columns = df.columns.str.capitalize()\n",
    "    return df\n",
    "\n",
    "us500 = get_data(symbol, timeframe, start_date, end_time)\n",
    "us500.dropna(inplace=True)\n"
   ]
  },
  {
   "cell_type": "code",
   "execution_count": 53,
   "metadata": {},
   "outputs": [
    {
     "data": {
      "text/plain": [
       "Start                     2023-01-03 01:00:00\n",
       "End                       2024-03-28 23:45:00\n",
       "Duration                    450 days 22:45:00\n",
       "Exposure Time [%]                   83.887617\n",
       "Equity Final [$]                      15389.3\n",
       "Equity Peak [$]                       15464.7\n",
       "Return [%]                             53.893\n",
       "Buy & Hold Return [%]               36.215101\n",
       "Return (Ann.) [%]                   41.402744\n",
       "Volatility (Ann.) [%]               30.191716\n",
       "Sharpe Ratio                         1.371328\n",
       "Sortino Ratio                        2.995462\n",
       "Calmar Ratio                         2.555321\n",
       "Max. Drawdown [%]                  -16.202562\n",
       "Avg. Drawdown [%]                   -0.616159\n",
       "Max. Drawdown Duration      120 days 07:00:00\n",
       "Avg. Drawdown Duration        1 days 14:23:00\n",
       "# Trades                                  818\n",
       "Win Rate [%]                        34.841076\n",
       "Best Trade [%]                        1.42835\n",
       "Worst Trade [%]                     -0.667623\n",
       "Avg. Trade [%]                       0.028773\n",
       "Max. Trade Duration           4 days 02:45:00\n",
       "Avg. Trade Duration           0 days 10:47:00\n",
       "Profit Factor                        1.211845\n",
       "Expectancy [%]                       0.029831\n",
       "SQN                                  1.896999\n",
       "_strategy                    BollingerBandBuy\n",
       "_equity_curve                             ...\n",
       "_trades                        Size  Entry...\n",
       "dtype: object"
      ]
     },
     "execution_count": 53,
     "metadata": {},
     "output_type": "execute_result"
    }
   ],
   "source": [
    "class BollingerBandBuy(Strategy):\n",
    "    initsize = 5.0\n",
    "    mysize = initsize\n",
    "    bb_window = 25\n",
    "    \n",
    "    def init(self):\n",
    "        super().init()\n",
    "        self.lower_bb = self.I(ta.volatility.bollinger_lband, pd.Series(self.data.Close), window=self.bb_window)\n",
    "        \n",
    "        \n",
    "    def next(self):\n",
    "        super().next()\n",
    "            \n",
    "        if (self.data.Close[-1] > self.lower_bb[-1]) and (self.data.Close[-2] <= self.lower_bb[-2]):\n",
    "            sl1 = self.data.Close[-1] - 250e-1\n",
    "            tp1 = self.data.Close[-1] + 550e-1\n",
    "            self.buy(sl=sl1, tp=tp1, size=self.mysize)      \n",
    "            \n",
    "# Assuming us500 is defined elsewhere\n",
    "bt = Backtest(us500, BollingerBandBuy, cash=10000, exclusive_orders=True, margin=1/100)\n",
    "\n",
    "output = bt.run()\n",
    "output\n"
   ]
  },
  {
   "cell_type": "code",
   "execution_count": 47,
   "metadata": {},
   "outputs": [
    {
     "data": {
      "application/vnd.jupyter.widget-view+json": {
       "model_id": "a50c6c04173d473cae341890fbf00955",
       "version_major": 2,
       "version_minor": 0
      },
      "text/plain": [
       "  0%|          | 0/10 [00:00<?, ?it/s]"
      ]
     },
     "metadata": {},
     "output_type": "display_data"
    },
    {
     "data": {
      "text/plain": [
       "Start                     2023-01-03 01:00:00\n",
       "End                       2024-03-28 23:45:00\n",
       "Duration                    450 days 22:45:00\n",
       "Exposure Time [%]                   83.887617\n",
       "Equity Final [$]                      15389.3\n",
       "Equity Peak [$]                       15464.7\n",
       "Return [%]                             53.893\n",
       "Buy & Hold Return [%]               36.215101\n",
       "Return (Ann.) [%]                   41.402744\n",
       "Volatility (Ann.) [%]               30.191716\n",
       "Sharpe Ratio                         1.371328\n",
       "Sortino Ratio                        2.995462\n",
       "Calmar Ratio                         2.555321\n",
       "Max. Drawdown [%]                  -16.202562\n",
       "Avg. Drawdown [%]                   -0.616159\n",
       "Max. Drawdown Duration      120 days 07:00:00\n",
       "Avg. Drawdown Duration        1 days 14:23:00\n",
       "# Trades                                  818\n",
       "Win Rate [%]                        34.841076\n",
       "Best Trade [%]                        1.42835\n",
       "Worst Trade [%]                     -0.667623\n",
       "Avg. Trade [%]                       0.028773\n",
       "Max. Trade Duration           4 days 02:45:00\n",
       "Avg. Trade Duration           0 days 10:47:00\n",
       "Profit Factor                        1.211845\n",
       "Expectancy [%]                       0.029831\n",
       "SQN                                  1.896999\n",
       "_strategy                 BollingerBandBuy...\n",
       "_equity_curve                             ...\n",
       "_trades                        Size  Entry...\n",
       "dtype: object"
      ]
     },
     "execution_count": 47,
     "metadata": {},
     "output_type": "execute_result"
    }
   ],
   "source": [
    "\n",
    "\n",
    "# Run optimization\n",
    "optimization_results = bt.optimize(bb_window=range(5, 100, 5), maximize='Return [%]')\n",
    "\n",
    "optimization_results"
   ]
  },
  {
   "cell_type": "code",
   "execution_count": null,
   "metadata": {},
   "outputs": [],
   "source": []
  }
 ],
 "metadata": {
  "kernelspec": {
   "display_name": "base",
   "language": "python",
   "name": "python3"
  },
  "language_info": {
   "codemirror_mode": {
    "name": "ipython",
    "version": 3
   },
   "file_extension": ".py",
   "mimetype": "text/x-python",
   "name": "python",
   "nbconvert_exporter": "python",
   "pygments_lexer": "ipython3",
   "version": "3.10.9"
  }
 },
 "nbformat": 4,
 "nbformat_minor": 2
}
