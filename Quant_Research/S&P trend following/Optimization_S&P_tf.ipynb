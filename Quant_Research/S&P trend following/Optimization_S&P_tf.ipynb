{
 "cells": [
  {
   "cell_type": "markdown",
   "metadata": {},
   "source": [
    "# S&P500 trend follwing on mt5 \n",
    "\n",
    "Optimizing the indicators to find the best blend\n",
    "\n",
    "\n",
    "\n",
    "### Result\n",
    "\n"
   ]
  },
  {
   "cell_type": "code",
   "execution_count": 7,
   "metadata": {},
   "outputs": [
    {
     "data": {
      "text/plain": [
       "True"
      ]
     },
     "execution_count": 7,
     "metadata": {},
     "output_type": "execute_result"
    }
   ],
   "source": [
    "import MetaTrader5 as mt5\n",
    "import pandas as pd\n",
    "import ta\n",
    "import time\n",
    "from backtesting import Backtest, Strategy\n",
    "from backtesting.lib import crossover\n",
    "from datetime import datetime\n",
    "mt5.initialize()"
   ]
  },
  {
   "cell_type": "code",
   "execution_count": 9,
   "metadata": {},
   "outputs": [],
   "source": [
    "symbol = 'SP500USD'\n",
    "timeframe = mt5.TIMEFRAME_M15\n",
    "start_date = datetime(2023,1,1)\n",
    "end_time = datetime.now()\n",
    "\n",
    "def get_data(symbol, timeframe, start_date, end_time):\n",
    "    rates = mt5.copy_rates_range(symbol, timeframe, start_date, end_time)\n",
    "    df = pd.DataFrame(rates)\n",
    "    df['time'] = pd.to_datetime(df['time'], unit='s')\n",
    "    df.set_index('time', inplace=True)\n",
    "    df.columns = df.columns.str.capitalize()\n",
    "    return df\n",
    "\n",
    "us500 = get_data(symbol, timeframe, start_date, end_time)\n",
    "us500.dropna(inplace=True)\n"
   ]
  },
  {
   "cell_type": "code",
   "execution_count": 10,
   "metadata": {},
   "outputs": [
    {
     "data": {
      "text/plain": [
       "Start                     2023-01-03 01:00:00\n",
       "End                       2024-04-23 14:00:00\n",
       "Duration                    476 days 13:00:00\n",
       "Exposure Time [%]                   84.299738\n",
       "Equity Final [$]                      15293.9\n",
       "Equity Peak [$]                      15709.55\n",
       "Return [%]                             52.939\n",
       "Buy & Hold Return [%]               30.521964\n",
       "Return (Ann.) [%]                     38.2449\n",
       "Volatility (Ann.) [%]               29.949228\n",
       "Sharpe Ratio                         1.276991\n",
       "Sortino Ratio                        2.726214\n",
       "Calmar Ratio                         2.310892\n",
       "Max. Drawdown [%]                  -16.549841\n",
       "Avg. Drawdown [%]                   -0.626622\n",
       "Max. Drawdown Duration      119 days 13:45:00\n",
       "Avg. Drawdown Duration        1 days 14:14:00\n",
       "# Trades                                  866\n",
       "Win Rate [%]                          35.2194\n",
       "Best Trade [%]                       1.428285\n",
       "Worst Trade [%]                     -0.657816\n",
       "Avg. Trade [%]                       0.026495\n",
       "Max. Trade Duration           4 days 03:45:00\n",
       "Avg. Trade Duration           0 days 10:48:00\n",
       "Profit Factor                         1.19453\n",
       "Expectancy [%]                       0.027533\n",
       "SQN                                  1.806082\n",
       "_strategy                    BollingerBandBuy\n",
       "_equity_curve                             ...\n",
       "_trades                        Size  Entry...\n",
       "dtype: object"
      ]
     },
     "execution_count": 10,
     "metadata": {},
     "output_type": "execute_result"
    }
   ],
   "source": [
    "class BollingerBandBuy(Strategy):\n",
    "    initsize = 5.0\n",
    "    mysize = initsize\n",
    "    bb_window = 25\n",
    "    \n",
    "    def init(self):\n",
    "        super().init()\n",
    "        self.lower_bb = self.I(ta.volatility.bollinger_lband, pd.Series(self.data.Close), window=self.bb_window)\n",
    "        \n",
    "        \n",
    "    def next(self):\n",
    "        super().next()\n",
    "            \n",
    "        if (self.data.Close[-1] > self.lower_bb[-1]) and (self.data.Close[-2] <= self.lower_bb[-2]):\n",
    "            sl1 = self.data.Close[-1] - 250e-1\n",
    "            tp1 = self.data.Close[-1] + 550e-1\n",
    "            self.buy(sl=sl1, tp=tp1, size=self.mysize)      \n",
    "            \n",
    "# Assuming us500 is defined elsewhere\n",
    "bt = Backtest(us500, BollingerBandBuy, cash=10000, exclusive_orders=True, margin=1/100)\n",
    "\n",
    "output = bt.run()\n",
    "output\n"
   ]
  },
  {
   "cell_type": "code",
   "execution_count": 11,
   "metadata": {},
   "outputs": [
    {
     "data": {
      "application/vnd.jupyter.widget-view+json": {
       "model_id": "48eee4e4897f478fbabce5344423db3e",
       "version_major": 2,
       "version_minor": 0
      },
      "text/plain": [
       "  0%|          | 0/10 [00:00<?, ?it/s]"
      ]
     },
     "metadata": {},
     "output_type": "display_data"
    },
    {
     "data": {
      "text/plain": [
       "Start                     2023-01-03 01:00:00\n",
       "End                       2024-04-23 14:00:00\n",
       "Duration                    476 days 13:00:00\n",
       "Exposure Time [%]                   79.270288\n",
       "Equity Final [$]                     15223.85\n",
       "Equity Peak [$]                      15711.95\n",
       "Return [%]                            52.2385\n",
       "Buy & Hold Return [%]               30.521964\n",
       "Return (Ann.) [%]                   37.539158\n",
       "Volatility (Ann.) [%]               26.856854\n",
       "Sharpe Ratio                          1.39775\n",
       "Sortino Ratio                        2.992922\n",
       "Calmar Ratio                         2.755031\n",
       "Max. Drawdown [%]                  -13.625676\n",
       "Avg. Drawdown [%]                   -0.590108\n",
       "Max. Drawdown Duration      124 days 23:15:00\n",
       "Avg. Drawdown Duration        1 days 15:03:00\n",
       "# Trades                                  754\n",
       "Win Rate [%]                        36.074271\n",
       "Best Trade [%]                       1.446525\n",
       "Worst Trade [%]                     -0.657816\n",
       "Avg. Trade [%]                       0.031488\n",
       "Max. Trade Duration           4 days 07:00:00\n",
       "Avg. Trade Duration           0 days 11:43:00\n",
       "Profit Factor                        1.234529\n",
       "Expectancy [%]                       0.032605\n",
       "SQN                                  1.845627\n",
       "_strategy                 BollingerBandBuy...\n",
       "_equity_curve                             ...\n",
       "_trades                        Size  Entry...\n",
       "dtype: object"
      ]
     },
     "execution_count": 11,
     "metadata": {},
     "output_type": "execute_result"
    }
   ],
   "source": [
    "\n",
    "\n",
    "# Run optimization\n",
    "optimization_results = bt.optimize(bb_window=range(5, 100, 5), maximize='Sharpe Ratio')\n",
    "\n",
    "optimization_results"
   ]
  },
  {
   "cell_type": "code",
   "execution_count": null,
   "metadata": {},
   "outputs": [],
   "source": []
  }
 ],
 "metadata": {
  "kernelspec": {
   "display_name": "base",
   "language": "python",
   "name": "python3"
  },
  "language_info": {
   "codemirror_mode": {
    "name": "ipython",
    "version": 3
   },
   "file_extension": ".py",
   "mimetype": "text/x-python",
   "name": "python",
   "nbconvert_exporter": "python",
   "pygments_lexer": "ipython3",
   "version": "3.10.9"
  }
 },
 "nbformat": 4,
 "nbformat_minor": 2
}
