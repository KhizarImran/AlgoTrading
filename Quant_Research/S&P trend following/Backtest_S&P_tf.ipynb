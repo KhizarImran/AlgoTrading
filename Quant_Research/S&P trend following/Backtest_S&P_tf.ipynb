{
 "cells": [
  {
   "cell_type": "markdown",
   "metadata": {},
   "source": [
    "# S&P500 trend follwing on mt5 \n",
    "\n",
    "idea for this research is to see what the best way would be to deploy algo that would time the market on us500.\n",
    "\n",
    "1. Using bollinger bands \n",
    "2. Using emas \n",
    "3. Using engulfing candles or pinbar candles\n",
    "\n",
    "\n",
    "### Result\n",
    "\n"
   ]
  },
  {
   "cell_type": "code",
   "execution_count": 8,
   "metadata": {},
   "outputs": [
    {
     "data": {
      "text/plain": [
       "'\\nStart                     2023-09-01 02:25:00\\nEnd                       2024-03-28 07:05:00\\nDuration                    209 days 04:40:00\\nExposure Time [%]                   95.447336\\nEquity Final [$]                     13245.35\\nEquity Peak [$]                      13306.55\\nReturn [%]                            32.4535\\nBuy & Hold Return [%]               16.431913\\nReturn (Ann.) [%]                   61.128558\\nVolatility (Ann.) [%]               40.268482\\nSharpe Ratio                         1.518025\\nSortino Ratio                         3.78781\\nCalmar Ratio                         2.791753\\nMax. Drawdown [%]                  -21.896118\\nAvg. Drawdown [%]                   -0.404287\\nMax. Drawdown Duration       80 days 06:05:00\\nAvg. Drawdown Duration        0 days 16:47:00\\n# Trades                                 1029\\nWin Rate [%]                        32.361516\\nBest Trade [%]                        1.31746\\nWorst Trade [%]                     -0.600701\\nAvg. Trade [%]                       0.012925\\nMax. Trade Duration           3 days 13:55:00\\nAvg. Trade Duration           0 days 04:32:00\\nProfit Factor                        1.196026\\n...\\nSQN                                  1.728056\\n_strategy                    BollingerBandBuy\\n_equity_curve                             ...\\n_trades                         Size  Entr...\\n'"
      ]
     },
     "execution_count": 8,
     "metadata": {},
     "output_type": "execute_result"
    }
   ],
   "source": [
    "'''\n",
    "Start                     2024-01-02 05:45:00\n",
    "End                       2024-03-28 23:45:00\n",
    "Duration                     86 days 18:00:00\n",
    "Exposure Time [%]                   73.943294\n",
    "Equity Final [$]                      14888.2\n",
    "Equity Peak [$]                       14963.6\n",
    "Return [%]                             48.882\n",
    "Buy & Hold Return [%]                9.992667\n",
    "Return (Ann.) [%]                  390.245473\n",
    "Volatility (Ann.) [%]               250.15073\n",
    "Sharpe Ratio                         1.560041\n",
    "Sortino Ratio                       21.004768\n",
    "Calmar Ratio                        30.294429\n",
    "Max. Drawdown [%]                  -12.881757\n",
    "Avg. Drawdown [%]                   -0.690614\n",
    "Max. Drawdown Duration       13 days 22:00:00\n",
    "Avg. Drawdown Duration        0 days 14:26:00\n",
    "# Trades                                   90\n",
    "Win Rate [%]                        33.333333\n",
    "Best Trade [%]                       1.172458\n",
    "Worst Trade [%]                     -0.523848\n",
    "Avg. Trade [%]                       0.087714\n",
    "Max. Trade Duration           4 days 04:45:00\n",
    "Avg. Trade Duration           0 days 17:03:00\n",
    "Profit Factor                        1.607989\n",
    "'''"
   ]
  },
  {
   "cell_type": "code",
   "execution_count": 9,
   "metadata": {},
   "outputs": [
    {
     "data": {
      "text/plain": [
       "True"
      ]
     },
     "execution_count": 9,
     "metadata": {},
     "output_type": "execute_result"
    }
   ],
   "source": [
    "import MetaTrader5 as mt5\n",
    "import pandas as pd\n",
    "import ta\n",
    "import time\n",
    "from backtesting import Backtest, Strategy\n",
    "from backtesting.lib import crossover\n",
    "from datetime import datetime\n",
    "mt5.initialize()"
   ]
  },
  {
   "cell_type": "code",
   "execution_count": 151,
   "metadata": {},
   "outputs": [],
   "source": [
    "symbol = 'US500'\n",
    "timeframe = mt5.TIMEFRAME_M15\n",
    "start_date = datetime(2023,1,1)\n",
    "end_time = datetime.now()\n",
    "\n",
    "def get_data(symbol, timeframe, start_date, end_time):\n",
    "    rates = mt5.copy_rates_range(symbol, timeframe, start_date, end_time)\n",
    "    df = pd.DataFrame(rates)\n",
    "    df['time'] = pd.to_datetime(df['time'], unit='s')\n",
    "    df.set_index('time', inplace=True)\n",
    "    df.columns = df.columns.str.capitalize()\n",
    "    return df\n",
    "\n",
    "us500 = get_data(symbol, timeframe, start_date, end_time)\n",
    "us500.dropna(inplace=True)\n"
   ]
  },
  {
   "cell_type": "markdown",
   "metadata": {},
   "source": [
    "### Main logic \n",
    "\n",
    "This logic is based on the lower bb and rsi. the trades are taken when the price closes above the lower Bb only when the RSI s below a certain value, which in this case 40 is used."
   ]
  },
  {
   "cell_type": "code",
   "execution_count": 1,
   "metadata": {},
   "outputs": [
    {
     "ename": "NameError",
     "evalue": "name 'us500' is not defined",
     "output_type": "error",
     "traceback": [
      "\u001b[1;31m---------------------------------------------------------------------------\u001b[0m",
      "\u001b[1;31mNameError\u001b[0m                                 Traceback (most recent call last)",
      "Cell \u001b[1;32mIn[1], line 15\u001b[0m\n\u001b[0;32m     11\u001b[0m             data\u001b[38;5;241m.\u001b[39mat[data\u001b[38;5;241m.\u001b[39mindex[i], \u001b[38;5;124m'\u001b[39m\u001b[38;5;124mSignals\u001b[39m\u001b[38;5;124m'\u001b[39m] \u001b[38;5;241m=\u001b[39m \u001b[38;5;241m0\u001b[39m\n\u001b[0;32m     13\u001b[0m     \u001b[38;5;28;01mreturn\u001b[39;00m data\n\u001b[1;32m---> 15\u001b[0m us500 \u001b[38;5;241m=\u001b[39m generate_signal(\u001b[43mus500\u001b[49m)\n\u001b[0;32m     16\u001b[0m us500\u001b[38;5;241m.\u001b[39mdropna(inplace\u001b[38;5;241m=\u001b[39m\u001b[38;5;28;01mTrue\u001b[39;00m)\n\u001b[0;32m     17\u001b[0m us500\n",
      "\u001b[1;31mNameError\u001b[0m: name 'us500' is not defined"
     ]
    }
   ],
   "source": [
    "def generate_signal(data):\n",
    "    data['Lower_BB'] = ta.volatility.bollinger_lband(data['Close'], window=20)\n",
    "    data['RSI'] = ta.momentum.RSIIndicator(data['Close'], window=14).rsi()\n",
    "    data['Signals'] = 0\n",
    "    \n",
    "    for i in range(1, len(data)):\n",
    "        \n",
    "        if (data['RSI'].iloc[i] <= 40 and data['Close'].iloc[i] > data['Lower_BB'].iloc[i]) and (data['Close'].iloc[i-1] <= data['Lower_BB'].iloc[i-1]):\n",
    "            data.at[data.index[i], 'Signals'] = 1\n",
    "        else:\n",
    "            data.at[data.index[i], 'Signals'] = 0\n",
    "        \n",
    "    return data\n",
    "\n",
    "us500 = generate_signal(us500)\n",
    "us500.dropna(inplace=True)\n",
    "us500\n"
   ]
  },
  {
   "cell_type": "code",
   "execution_count": 88,
   "metadata": {},
   "outputs": [
    {
     "data": {
      "text/html": [
       "<div>\n",
       "<style scoped>\n",
       "    .dataframe tbody tr th:only-of-type {\n",
       "        vertical-align: middle;\n",
       "    }\n",
       "\n",
       "    .dataframe tbody tr th {\n",
       "        vertical-align: top;\n",
       "    }\n",
       "\n",
       "    .dataframe thead th {\n",
       "        text-align: right;\n",
       "    }\n",
       "</style>\n",
       "<table border=\"1\" class=\"dataframe\">\n",
       "  <thead>\n",
       "    <tr style=\"text-align: right;\">\n",
       "      <th></th>\n",
       "      <th>Open</th>\n",
       "      <th>High</th>\n",
       "      <th>Low</th>\n",
       "      <th>Close</th>\n",
       "      <th>Tick_volume</th>\n",
       "      <th>Spread</th>\n",
       "      <th>Real_volume</th>\n",
       "      <th>Lower_BB</th>\n",
       "      <th>Signals</th>\n",
       "    </tr>\n",
       "    <tr>\n",
       "      <th>time</th>\n",
       "      <th></th>\n",
       "      <th></th>\n",
       "      <th></th>\n",
       "      <th></th>\n",
       "      <th></th>\n",
       "      <th></th>\n",
       "      <th></th>\n",
       "      <th></th>\n",
       "      <th></th>\n",
       "    </tr>\n",
       "  </thead>\n",
       "  <tbody>\n",
       "    <tr>\n",
       "      <th>2024-01-02 17:35:00</th>\n",
       "      <td>4732.20</td>\n",
       "      <td>4732.50</td>\n",
       "      <td>4730.00</td>\n",
       "      <td>4732.20</td>\n",
       "      <td>141</td>\n",
       "      <td>20</td>\n",
       "      <td>0</td>\n",
       "      <td>4732.796549</td>\n",
       "      <td>0</td>\n",
       "    </tr>\n",
       "    <tr>\n",
       "      <th>2024-01-02 17:40:00</th>\n",
       "      <td>4732.00</td>\n",
       "      <td>4736.50</td>\n",
       "      <td>4731.70</td>\n",
       "      <td>4735.70</td>\n",
       "      <td>194</td>\n",
       "      <td>20</td>\n",
       "      <td>0</td>\n",
       "      <td>4732.370367</td>\n",
       "      <td>1</td>\n",
       "    </tr>\n",
       "    <tr>\n",
       "      <th>2024-01-02 17:45:00</th>\n",
       "      <td>4735.50</td>\n",
       "      <td>4737.50</td>\n",
       "      <td>4733.20</td>\n",
       "      <td>4733.50</td>\n",
       "      <td>165</td>\n",
       "      <td>20</td>\n",
       "      <td>0</td>\n",
       "      <td>4731.900443</td>\n",
       "      <td>0</td>\n",
       "    </tr>\n",
       "    <tr>\n",
       "      <th>2024-01-02 17:50:00</th>\n",
       "      <td>4733.70</td>\n",
       "      <td>4735.70</td>\n",
       "      <td>4733.00</td>\n",
       "      <td>4734.00</td>\n",
       "      <td>164</td>\n",
       "      <td>20</td>\n",
       "      <td>0</td>\n",
       "      <td>4731.448969</td>\n",
       "      <td>0</td>\n",
       "    </tr>\n",
       "    <tr>\n",
       "      <th>2024-01-02 17:55:00</th>\n",
       "      <td>4733.70</td>\n",
       "      <td>4734.70</td>\n",
       "      <td>4731.70</td>\n",
       "      <td>4733.70</td>\n",
       "      <td>129</td>\n",
       "      <td>20</td>\n",
       "      <td>0</td>\n",
       "      <td>4730.997339</td>\n",
       "      <td>0</td>\n",
       "    </tr>\n",
       "    <tr>\n",
       "      <th>...</th>\n",
       "      <td>...</td>\n",
       "      <td>...</td>\n",
       "      <td>...</td>\n",
       "      <td>...</td>\n",
       "      <td>...</td>\n",
       "      <td>...</td>\n",
       "      <td>...</td>\n",
       "      <td>...</td>\n",
       "      <td>...</td>\n",
       "    </tr>\n",
       "    <tr>\n",
       "      <th>2024-03-28 23:35:00</th>\n",
       "      <td>5251.48</td>\n",
       "      <td>5251.48</td>\n",
       "      <td>5249.23</td>\n",
       "      <td>5249.23</td>\n",
       "      <td>35</td>\n",
       "      <td>36</td>\n",
       "      <td>0</td>\n",
       "      <td>5246.243161</td>\n",
       "      <td>0</td>\n",
       "    </tr>\n",
       "    <tr>\n",
       "      <th>2024-03-28 23:40:00</th>\n",
       "      <td>5249.48</td>\n",
       "      <td>5249.98</td>\n",
       "      <td>5249.23</td>\n",
       "      <td>5249.98</td>\n",
       "      <td>35</td>\n",
       "      <td>36</td>\n",
       "      <td>0</td>\n",
       "      <td>5246.239595</td>\n",
       "      <td>0</td>\n",
       "    </tr>\n",
       "    <tr>\n",
       "      <th>2024-03-28 23:45:00</th>\n",
       "      <td>5249.98</td>\n",
       "      <td>5249.98</td>\n",
       "      <td>5249.23</td>\n",
       "      <td>5249.73</td>\n",
       "      <td>21</td>\n",
       "      <td>36</td>\n",
       "      <td>0</td>\n",
       "      <td>5246.225695</td>\n",
       "      <td>0</td>\n",
       "    </tr>\n",
       "    <tr>\n",
       "      <th>2024-03-28 23:50:00</th>\n",
       "      <td>5249.73</td>\n",
       "      <td>5249.98</td>\n",
       "      <td>5249.73</td>\n",
       "      <td>5249.73</td>\n",
       "      <td>17</td>\n",
       "      <td>36</td>\n",
       "      <td>0</td>\n",
       "      <td>5246.211819</td>\n",
       "      <td>0</td>\n",
       "    </tr>\n",
       "    <tr>\n",
       "      <th>2024-03-28 23:55:00</th>\n",
       "      <td>5249.73</td>\n",
       "      <td>5249.98</td>\n",
       "      <td>5249.23</td>\n",
       "      <td>5249.73</td>\n",
       "      <td>42</td>\n",
       "      <td>36</td>\n",
       "      <td>0</td>\n",
       "      <td>5246.189411</td>\n",
       "      <td>0</td>\n",
       "    </tr>\n",
       "  </tbody>\n",
       "</table>\n",
       "<p>17085 rows × 9 columns</p>\n",
       "</div>"
      ],
      "text/plain": [
       "                        Open     High      Low    Close  Tick_volume  Spread  \\\n",
       "time                                                                           \n",
       "2024-01-02 17:35:00  4732.20  4732.50  4730.00  4732.20          141      20   \n",
       "2024-01-02 17:40:00  4732.00  4736.50  4731.70  4735.70          194      20   \n",
       "2024-01-02 17:45:00  4735.50  4737.50  4733.20  4733.50          165      20   \n",
       "2024-01-02 17:50:00  4733.70  4735.70  4733.00  4734.00          164      20   \n",
       "2024-01-02 17:55:00  4733.70  4734.70  4731.70  4733.70          129      20   \n",
       "...                      ...      ...      ...      ...          ...     ...   \n",
       "2024-03-28 23:35:00  5251.48  5251.48  5249.23  5249.23           35      36   \n",
       "2024-03-28 23:40:00  5249.48  5249.98  5249.23  5249.98           35      36   \n",
       "2024-03-28 23:45:00  5249.98  5249.98  5249.23  5249.73           21      36   \n",
       "2024-03-28 23:50:00  5249.73  5249.98  5249.73  5249.73           17      36   \n",
       "2024-03-28 23:55:00  5249.73  5249.98  5249.23  5249.73           42      36   \n",
       "\n",
       "                     Real_volume     Lower_BB  Signals  \n",
       "time                                                    \n",
       "2024-01-02 17:35:00            0  4732.796549        0  \n",
       "2024-01-02 17:40:00            0  4732.370367        1  \n",
       "2024-01-02 17:45:00            0  4731.900443        0  \n",
       "2024-01-02 17:50:00            0  4731.448969        0  \n",
       "2024-01-02 17:55:00            0  4730.997339        0  \n",
       "...                          ...          ...      ...  \n",
       "2024-03-28 23:35:00            0  5246.243161        0  \n",
       "2024-03-28 23:40:00            0  5246.239595        0  \n",
       "2024-03-28 23:45:00            0  5246.225695        0  \n",
       "2024-03-28 23:50:00            0  5246.211819        0  \n",
       "2024-03-28 23:55:00            0  5246.189411        0  \n",
       "\n",
       "[17085 rows x 9 columns]"
      ]
     },
     "execution_count": 88,
     "metadata": {},
     "output_type": "execute_result"
    }
   ],
   "source": [
    "\n",
    "\n",
    "# Without RSI\n",
    "\n",
    "def generate_signal(data):\n",
    "    data['Lower_BB'] = ta.volatility.bollinger_lband(data['Close'], window=20)\n",
    "    data['Signals'] = 0\n",
    "    \n",
    "    for i in range(1, len(data)):\n",
    "        \n",
    "        if (data['Close'].iloc[i] > data['Lower_BB'].iloc[i]) and (data['Close'].iloc[i-1] <= data['Lower_BB'].iloc[i-1]):\n",
    "            data.at[data.index[i], 'Signals'] = 1\n",
    "        else:\n",
    "            data.at[data.index[i], 'Signals'] = 0\n",
    "        \n",
    "    return data\n",
    "\n",
    "us500 = generate_signal(us500)\n",
    "us500.dropna(inplace=True)\n",
    "us500"
   ]
  },
  {
   "cell_type": "code",
   "execution_count": 153,
   "metadata": {},
   "outputs": [
    {
     "data": {
      "text/plain": [
       "492"
      ]
     },
     "execution_count": 153,
     "metadata": {},
     "output_type": "execute_result"
    }
   ],
   "source": [
    "us500['Signals'].sum()\n"
   ]
  },
  {
   "cell_type": "code",
   "execution_count": 154,
   "metadata": {},
   "outputs": [],
   "source": [
    "def SIGNAL():\n",
    "    return us500.Signals"
   ]
  },
  {
   "cell_type": "code",
   "execution_count": 157,
   "metadata": {},
   "outputs": [
    {
     "data": {
      "text/plain": [
       "Start                     2023-01-03 05:45:00\n",
       "End                       2024-03-28 23:45:00\n",
       "Duration                    450 days 18:00:00\n",
       "Exposure Time [%]                    71.02059\n",
       "Equity Final [$]                      20574.2\n",
       "Equity Peak [$]                       20649.6\n",
       "Return [%]                            105.742\n",
       "Buy & Hold Return [%]               36.565906\n",
       "Return (Ann.) [%]                   76.728506\n",
       "Volatility (Ann.) [%]               84.705071\n",
       "Sharpe Ratio                         0.905831\n",
       "Sortino Ratio                        4.136924\n",
       "Calmar Ratio                         2.243432\n",
       "Max. Drawdown [%]                  -34.201389\n",
       "Avg. Drawdown [%]                   -0.861851\n",
       "Max. Drawdown Duration      189 days 03:30:00\n",
       "Avg. Drawdown Duration        1 days 15:40:00\n",
       "# Trades                                  492\n",
       "Win Rate [%]                        30.894309\n",
       "Best Trade [%]                       1.447186\n",
       "Worst Trade [%]                     -0.663185\n",
       "Avg. Trade [%]                       0.038691\n",
       "Max. Trade Duration           5 days 15:00:00\n",
       "Avg. Trade Duration           0 days 15:05:00\n",
       "Profit Factor                         1.22684\n",
       "Expectancy [%]                       0.040203\n",
       "SQN                                  1.502262\n",
       "_strategy                    BollingerBandBuy\n",
       "_equity_curve                             ...\n",
       "_trades                        Size  Entry...\n",
       "dtype: object"
      ]
     },
     "execution_count": 157,
     "metadata": {},
     "output_type": "execute_result"
    }
   ],
   "source": [
    "\n",
    "\n",
    "class BollingerBandBuy(Strategy):\n",
    "    initsize = 5.0\n",
    "    mysize = initsize\n",
    "    def init(self):\n",
    "        super().init()\n",
    "        self.signal1 = self.I(SIGNAL)\n",
    "        \n",
    "    def next(self):\n",
    "        super().next()\n",
    "        if (self.signal1 > 0 and len(self.trades)==0 and len(self.closed_trades)>0 and self.closed_trades[-1].pl < 0) :\n",
    "            self.mysize = self.mysize*2\n",
    "        elif len(self.closed_trades)>0 and self.closed_trades[-1].pl > 0:\n",
    "            self.mysize = self.initsize\n",
    "            \n",
    "        if self.signal1 == 1:\n",
    "            sl1 = self.data.Close[-1] - 250e-1\n",
    "            tp1 = self.data.Close[-1] + 550e-1\n",
    "            self.buy(sl = sl1, tp = tp1, size=self.mysize)      \n",
    "            \n",
    "bt = Backtest(us500, BollingerBandBuy, cash=10000, exclusive_orders=True, margin= 1/100)\n",
    "\n",
    "output = bt.run()\n",
    "output  \n"
   ]
  },
  {
   "cell_type": "code",
   "execution_count": 150,
   "metadata": {},
   "outputs": [
    {
     "data": {
      "text/html": [
       "<div style=\"display: table;\"><div style=\"display: table-row;\"><div style=\"display: table-cell;\"><b title=\"bokeh.models.layouts.Row\">Row</b>(</div><div style=\"display: table-cell;\">id&nbsp;=&nbsp;'15643', <span id=\"16283\" style=\"cursor: pointer;\">&hellip;)</span></div></div><div class=\"16282\" style=\"display: none;\"><div style=\"display: table-cell;\"></div><div style=\"display: table-cell;\">align&nbsp;=&nbsp;'start',</div></div><div class=\"16282\" style=\"display: none;\"><div style=\"display: table-cell;\"></div><div style=\"display: table-cell;\">aspect_ratio&nbsp;=&nbsp;None,</div></div><div class=\"16282\" style=\"display: none;\"><div style=\"display: table-cell;\"></div><div style=\"display: table-cell;\">background&nbsp;=&nbsp;None,</div></div><div class=\"16282\" style=\"display: none;\"><div style=\"display: table-cell;\"></div><div style=\"display: table-cell;\">children&nbsp;=&nbsp;[GridBox(id='15640', ...), ToolbarBox(id='15642', ...)],</div></div><div class=\"16282\" style=\"display: none;\"><div style=\"display: table-cell;\"></div><div style=\"display: table-cell;\">cols&nbsp;=&nbsp;'auto',</div></div><div class=\"16282\" style=\"display: none;\"><div style=\"display: table-cell;\"></div><div style=\"display: table-cell;\">css_classes&nbsp;=&nbsp;[],</div></div><div class=\"16282\" style=\"display: none;\"><div style=\"display: table-cell;\"></div><div style=\"display: table-cell;\">disabled&nbsp;=&nbsp;False,</div></div><div class=\"16282\" style=\"display: none;\"><div style=\"display: table-cell;\"></div><div style=\"display: table-cell;\">height&nbsp;=&nbsp;None,</div></div><div class=\"16282\" style=\"display: none;\"><div style=\"display: table-cell;\"></div><div style=\"display: table-cell;\">height_policy&nbsp;=&nbsp;'auto',</div></div><div class=\"16282\" style=\"display: none;\"><div style=\"display: table-cell;\"></div><div style=\"display: table-cell;\">js_event_callbacks&nbsp;=&nbsp;{},</div></div><div class=\"16282\" style=\"display: none;\"><div style=\"display: table-cell;\"></div><div style=\"display: table-cell;\">js_property_callbacks&nbsp;=&nbsp;{},</div></div><div class=\"16282\" style=\"display: none;\"><div style=\"display: table-cell;\"></div><div style=\"display: table-cell;\">margin&nbsp;=&nbsp;(0, 0, 0, 0),</div></div><div class=\"16282\" style=\"display: none;\"><div style=\"display: table-cell;\"></div><div style=\"display: table-cell;\">max_height&nbsp;=&nbsp;None,</div></div><div class=\"16282\" style=\"display: none;\"><div style=\"display: table-cell;\"></div><div style=\"display: table-cell;\">max_width&nbsp;=&nbsp;None,</div></div><div class=\"16282\" style=\"display: none;\"><div style=\"display: table-cell;\"></div><div style=\"display: table-cell;\">min_height&nbsp;=&nbsp;None,</div></div><div class=\"16282\" style=\"display: none;\"><div style=\"display: table-cell;\"></div><div style=\"display: table-cell;\">min_width&nbsp;=&nbsp;None,</div></div><div class=\"16282\" style=\"display: none;\"><div style=\"display: table-cell;\"></div><div style=\"display: table-cell;\">name&nbsp;=&nbsp;None,</div></div><div class=\"16282\" style=\"display: none;\"><div style=\"display: table-cell;\"></div><div style=\"display: table-cell;\">sizing_mode&nbsp;=&nbsp;'stretch_width',</div></div><div class=\"16282\" style=\"display: none;\"><div style=\"display: table-cell;\"></div><div style=\"display: table-cell;\">spacing&nbsp;=&nbsp;0,</div></div><div class=\"16282\" style=\"display: none;\"><div style=\"display: table-cell;\"></div><div style=\"display: table-cell;\">subscribed_events&nbsp;=&nbsp;[],</div></div><div class=\"16282\" style=\"display: none;\"><div style=\"display: table-cell;\"></div><div style=\"display: table-cell;\">syncable&nbsp;=&nbsp;True,</div></div><div class=\"16282\" style=\"display: none;\"><div style=\"display: table-cell;\"></div><div style=\"display: table-cell;\">tags&nbsp;=&nbsp;[],</div></div><div class=\"16282\" style=\"display: none;\"><div style=\"display: table-cell;\"></div><div style=\"display: table-cell;\">visible&nbsp;=&nbsp;True,</div></div><div class=\"16282\" style=\"display: none;\"><div style=\"display: table-cell;\"></div><div style=\"display: table-cell;\">width&nbsp;=&nbsp;None,</div></div><div class=\"16282\" style=\"display: none;\"><div style=\"display: table-cell;\"></div><div style=\"display: table-cell;\">width_policy&nbsp;=&nbsp;'auto')</div></div></div>\n",
       "<script>\n",
       "(function() {\n",
       "  let expanded = false;\n",
       "  const ellipsis = document.getElementById(\"16283\");\n",
       "  ellipsis.addEventListener(\"click\", function() {\n",
       "    const rows = document.getElementsByClassName(\"16282\");\n",
       "    for (let i = 0; i < rows.length; i++) {\n",
       "      const el = rows[i];\n",
       "      el.style.display = expanded ? \"none\" : \"table-row\";\n",
       "    }\n",
       "    ellipsis.innerHTML = expanded ? \"&hellip;)\" : \"&lsaquo;&lsaquo;&lsaquo;\";\n",
       "    expanded = !expanded;\n",
       "  });\n",
       "})();\n",
       "</script>\n"
      ],
      "text/plain": [
       "Row(id='15643', ...)"
      ]
     },
     "execution_count": 150,
     "metadata": {},
     "output_type": "execute_result"
    }
   ],
   "source": [
    "bt.plot()"
   ]
  },
  {
   "cell_type": "code",
   "execution_count": null,
   "metadata": {},
   "outputs": [],
   "source": []
  }
 ],
 "metadata": {
  "kernelspec": {
   "display_name": "base",
   "language": "python",
   "name": "python3"
  },
  "language_info": {
   "codemirror_mode": {
    "name": "ipython",
    "version": 3
   },
   "file_extension": ".py",
   "mimetype": "text/x-python",
   "name": "python",
   "nbconvert_exporter": "python",
   "pygments_lexer": "ipython3",
   "version": "3.10.9"
  }
 },
 "nbformat": 4,
 "nbformat_minor": 2
}
