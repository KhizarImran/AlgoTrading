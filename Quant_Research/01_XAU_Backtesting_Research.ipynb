{
 "cells": [
  {
   "cell_type": "markdown",
   "metadata": {},
   "source": [
    "## Research Notebook for 01 XAU Bot\n",
    "\n",
    "This notebook looks into a simple SMAcrossover strategy using backtesting.py libray and mt5 as a data feed. the following are the steps that are applied:\n",
    "\n",
    "1. get data from mt5 using settings of desired asset and timeframe \n",
    "2. using class from backtesting.py, backtest the strategy \n",
    "3. optimize the strategy for the best parameters \n",
    "4. visualize using graphical methods. \n",
    "\n",
    "\n",
    "\n",
    "\n"
   ]
  },
  {
   "cell_type": "code",
   "execution_count": 1,
   "metadata": {},
   "outputs": [],
   "source": [
    "import MetaTrader5 as mt5\n",
    "import pandas as pd\n",
    "import ta\n",
    "import time\n",
    "from backtesting import Backtest, Strategy\n",
    "from backtesting.lib import crossover\n",
    "from datetime import datetime\n",
    "import matplotlib.pyplot as plt\n",
    "from matplotlib import cycler\n",
    "%matplotlib inline"
   ]
  },
  {
   "cell_type": "code",
   "execution_count": 3,
   "metadata": {},
   "outputs": [],
   "source": [
    "def plt_dark():\n",
    "       colors = cycler('color',\n",
    "                     ['#669FEE', '#66EE91', '#9988DD',\n",
    "                     '#EECC55', '#88BB44', '#FFBBBB'])\n",
    "       plt.rc('figure', facecolor='#313233')\n",
    "       plt.rc('axes', facecolor=\"#313233\", edgecolor='none',\n",
    "              axisbelow=True, grid=True, prop_cycle=colors,\n",
    "              labelcolor='gray')\n",
    "       plt.rc('grid', color='474A4A', linestyle='solid')\n",
    "       plt.rc('xtick', color='gray')\n",
    "       plt.rc('ytick', direction='out', color='gray')\n",
    "       plt.rc('legend', facecolor=\"#313233\", edgecolor=\"#313233\")\n",
    "       plt.rc(\"text\", color=\"#C9C9C9\")\n",
    "       plt.rc('figure', facecolor='#313233')\n",
    "plt_dark()"
   ]
  },
  {
   "cell_type": "code",
   "execution_count": 12,
   "metadata": {},
   "outputs": [
    {
     "name": "stderr",
     "output_type": "stream",
     "text": [
      "C:\\Users\\User\\AppData\\Local\\Temp\\ipykernel_14984\\1313432269.py:36: UserWarning: Data index is not datetime. Assuming simple periods, but `pd.DateTimeIndex` is advised.\n",
      "  bt = Backtest(df, SMAcross, cash=100000, commission= 0.002, exclusive_orders=True)\n"
     ]
    },
    {
     "data": {
      "text/plain": [
       "Start                                     0.0\n",
       "End                                   24875.0\n",
       "Duration                              24875.0\n",
       "Exposure Time [%]                   99.654285\n",
       "Equity Final [$]                  43326.23042\n",
       "Equity Peak [$]                  112423.85668\n",
       "Return [%]                          -56.67377\n",
       "Buy & Hold Return [%]                41.97878\n",
       "Return (Ann.) [%]                         0.0\n",
       "Volatility (Ann.) [%]                     NaN\n",
       "Sharpe Ratio                              NaN\n",
       "Sortino Ratio                             NaN\n",
       "Calmar Ratio                              0.0\n",
       "Max. Drawdown [%]                  -63.211344\n",
       "Avg. Drawdown [%]                   -8.499182\n",
       "Max. Drawdown Duration                23207.0\n",
       "Avg. Drawdown Duration            2252.545455\n",
       "# Trades                                559.0\n",
       "Win Rate [%]                        28.980322\n",
       "Best Trade [%]                       8.611781\n",
       "Worst Trade [%]                     -3.192239\n",
       "Avg. Trade [%]                      -0.151212\n",
       "Max. Trade Duration                     232.0\n",
       "Avg. Trade Duration                 44.345259\n",
       "Profit Factor                        0.723332\n",
       "Expectancy [%]                      -0.143023\n",
       "SQN                                  -2.32728\n",
       "_strategy                            SMAcross\n",
       "_equity_curve                          Equ...\n",
       "_trades                        Size  Entry...\n",
       "dtype: object"
      ]
     },
     "execution_count": 12,
     "metadata": {},
     "output_type": "execute_result"
    }
   ],
   "source": [
    "\n",
    "# Settings \n",
    "symbol = 'XAUUSD'\n",
    "timeframe = mt5.TIMEFRAME_H1\n",
    "start_date = datetime(2020, 1, 1)\n",
    "end_date = datetime.now()\n",
    "\n",
    "# Function \n",
    "def GetMTData():\n",
    "    mt5.initialize()\n",
    "    bars = pd.DataFrame(mt5.copy_rates_range(symbol, timeframe, start_date, end_date))\n",
    "    bars['time'] = pd.to_datetime(bars['time'], unit='s')\n",
    "    bars.columns = bars.columns.str.capitalize()\n",
    "    return bars\n",
    "\n",
    "df  = GetMTData()\n",
    "# xauusd.tail()\n",
    "\n",
    "class SMAcross(Strategy):\n",
    "    \n",
    "    n1 = 20\n",
    "    n2 = 50\n",
    "    \n",
    "    def init(self):\n",
    "        close = self.data.Close\n",
    "        self.sma1 = self.I(ta.trend.sma_indicator, pd.Series(close), self.n1)\n",
    "        self.sma2 = self.I(ta.trend.sma_indicator, pd.Series(close), self.n2)\n",
    "        \n",
    "        \n",
    "    def next(self):\n",
    "        if crossover(self.sma1, self.sma2):\n",
    "            self.buy()\n",
    "        elif crossover(self.sma2, self.sma1):\n",
    "            self.sell()\n",
    "        \n",
    "\n",
    "bt = Backtest(df, SMAcross, cash=100000, commission= 0.002, exclusive_orders=True)\n",
    "            \n",
    "output = bt.run()\n",
    "\n",
    "output\n",
    "\n",
    "\n",
    "\n",
    "    \n",
    "    "
   ]
  },
  {
   "cell_type": "code",
   "execution_count": 13,
   "metadata": {},
   "outputs": [
    {
     "data": {
      "text/html": [
       "<div style=\"display: table;\"><div style=\"display: table-row;\"><div style=\"display: table-cell;\"><b title=\"bokeh.models.layouts.Row\">Row</b>(</div><div style=\"display: table-cell;\">id&nbsp;=&nbsp;'3131', <span id=\"3641\" style=\"cursor: pointer;\">&hellip;)</span></div></div><div class=\"3640\" style=\"display: none;\"><div style=\"display: table-cell;\"></div><div style=\"display: table-cell;\">align&nbsp;=&nbsp;'start',</div></div><div class=\"3640\" style=\"display: none;\"><div style=\"display: table-cell;\"></div><div style=\"display: table-cell;\">aspect_ratio&nbsp;=&nbsp;None,</div></div><div class=\"3640\" style=\"display: none;\"><div style=\"display: table-cell;\"></div><div style=\"display: table-cell;\">background&nbsp;=&nbsp;None,</div></div><div class=\"3640\" style=\"display: none;\"><div style=\"display: table-cell;\"></div><div style=\"display: table-cell;\">children&nbsp;=&nbsp;[GridBox(id='3128', ...), ToolbarBox(id='3130', ...)],</div></div><div class=\"3640\" style=\"display: none;\"><div style=\"display: table-cell;\"></div><div style=\"display: table-cell;\">cols&nbsp;=&nbsp;'auto',</div></div><div class=\"3640\" style=\"display: none;\"><div style=\"display: table-cell;\"></div><div style=\"display: table-cell;\">css_classes&nbsp;=&nbsp;[],</div></div><div class=\"3640\" style=\"display: none;\"><div style=\"display: table-cell;\"></div><div style=\"display: table-cell;\">disabled&nbsp;=&nbsp;False,</div></div><div class=\"3640\" style=\"display: none;\"><div style=\"display: table-cell;\"></div><div style=\"display: table-cell;\">height&nbsp;=&nbsp;None,</div></div><div class=\"3640\" style=\"display: none;\"><div style=\"display: table-cell;\"></div><div style=\"display: table-cell;\">height_policy&nbsp;=&nbsp;'auto',</div></div><div class=\"3640\" style=\"display: none;\"><div style=\"display: table-cell;\"></div><div style=\"display: table-cell;\">js_event_callbacks&nbsp;=&nbsp;{},</div></div><div class=\"3640\" style=\"display: none;\"><div style=\"display: table-cell;\"></div><div style=\"display: table-cell;\">js_property_callbacks&nbsp;=&nbsp;{},</div></div><div class=\"3640\" style=\"display: none;\"><div style=\"display: table-cell;\"></div><div style=\"display: table-cell;\">margin&nbsp;=&nbsp;(0, 0, 0, 0),</div></div><div class=\"3640\" style=\"display: none;\"><div style=\"display: table-cell;\"></div><div style=\"display: table-cell;\">max_height&nbsp;=&nbsp;None,</div></div><div class=\"3640\" style=\"display: none;\"><div style=\"display: table-cell;\"></div><div style=\"display: table-cell;\">max_width&nbsp;=&nbsp;None,</div></div><div class=\"3640\" style=\"display: none;\"><div style=\"display: table-cell;\"></div><div style=\"display: table-cell;\">min_height&nbsp;=&nbsp;None,</div></div><div class=\"3640\" style=\"display: none;\"><div style=\"display: table-cell;\"></div><div style=\"display: table-cell;\">min_width&nbsp;=&nbsp;None,</div></div><div class=\"3640\" style=\"display: none;\"><div style=\"display: table-cell;\"></div><div style=\"display: table-cell;\">name&nbsp;=&nbsp;None,</div></div><div class=\"3640\" style=\"display: none;\"><div style=\"display: table-cell;\"></div><div style=\"display: table-cell;\">sizing_mode&nbsp;=&nbsp;'stretch_width',</div></div><div class=\"3640\" style=\"display: none;\"><div style=\"display: table-cell;\"></div><div style=\"display: table-cell;\">spacing&nbsp;=&nbsp;0,</div></div><div class=\"3640\" style=\"display: none;\"><div style=\"display: table-cell;\"></div><div style=\"display: table-cell;\">subscribed_events&nbsp;=&nbsp;[],</div></div><div class=\"3640\" style=\"display: none;\"><div style=\"display: table-cell;\"></div><div style=\"display: table-cell;\">syncable&nbsp;=&nbsp;True,</div></div><div class=\"3640\" style=\"display: none;\"><div style=\"display: table-cell;\"></div><div style=\"display: table-cell;\">tags&nbsp;=&nbsp;[],</div></div><div class=\"3640\" style=\"display: none;\"><div style=\"display: table-cell;\"></div><div style=\"display: table-cell;\">visible&nbsp;=&nbsp;True,</div></div><div class=\"3640\" style=\"display: none;\"><div style=\"display: table-cell;\"></div><div style=\"display: table-cell;\">width&nbsp;=&nbsp;None,</div></div><div class=\"3640\" style=\"display: none;\"><div style=\"display: table-cell;\"></div><div style=\"display: table-cell;\">width_policy&nbsp;=&nbsp;'auto')</div></div></div>\n",
       "<script>\n",
       "(function() {\n",
       "  let expanded = false;\n",
       "  const ellipsis = document.getElementById(\"3641\");\n",
       "  ellipsis.addEventListener(\"click\", function() {\n",
       "    const rows = document.getElementsByClassName(\"3640\");\n",
       "    for (let i = 0; i < rows.length; i++) {\n",
       "      const el = rows[i];\n",
       "      el.style.display = expanded ? \"none\" : \"table-row\";\n",
       "    }\n",
       "    ellipsis.innerHTML = expanded ? \"&hellip;)\" : \"&lsaquo;&lsaquo;&lsaquo;\";\n",
       "    expanded = !expanded;\n",
       "  });\n",
       "})();\n",
       "</script>\n"
      ],
      "text/plain": [
       "Row(id='3131', ...)"
      ]
     },
     "execution_count": 13,
     "metadata": {},
     "output_type": "execute_result"
    }
   ],
   "source": [
    "bt.plot()\n"
   ]
  },
  {
   "cell_type": "code",
   "execution_count": 14,
   "metadata": {},
   "outputs": [
    {
     "data": {
      "application/vnd.jupyter.widget-view+json": {
       "model_id": "9e2ab870ac1f49eabaa4d6df50bfc081",
       "version_major": 2,
       "version_minor": 0
      },
      "text/plain": [
       "  0%|          | 0/10 [00:00<?, ?it/s]"
      ]
     },
     "metadata": {},
     "output_type": "display_data"
    },
    {
     "data": {
      "text/html": [
       "<div style=\"display: table;\"><div style=\"display: table-row;\"><div style=\"display: table-cell;\"><b title=\"bokeh.models.layouts.Row\">Row</b>(</div><div style=\"display: table-cell;\">id&nbsp;=&nbsp;'4011', <span id=\"4521\" style=\"cursor: pointer;\">&hellip;)</span></div></div><div class=\"4520\" style=\"display: none;\"><div style=\"display: table-cell;\"></div><div style=\"display: table-cell;\">align&nbsp;=&nbsp;'start',</div></div><div class=\"4520\" style=\"display: none;\"><div style=\"display: table-cell;\"></div><div style=\"display: table-cell;\">aspect_ratio&nbsp;=&nbsp;None,</div></div><div class=\"4520\" style=\"display: none;\"><div style=\"display: table-cell;\"></div><div style=\"display: table-cell;\">background&nbsp;=&nbsp;None,</div></div><div class=\"4520\" style=\"display: none;\"><div style=\"display: table-cell;\"></div><div style=\"display: table-cell;\">children&nbsp;=&nbsp;[GridBox(id='4008', ...), ToolbarBox(id='4010', ...)],</div></div><div class=\"4520\" style=\"display: none;\"><div style=\"display: table-cell;\"></div><div style=\"display: table-cell;\">cols&nbsp;=&nbsp;'auto',</div></div><div class=\"4520\" style=\"display: none;\"><div style=\"display: table-cell;\"></div><div style=\"display: table-cell;\">css_classes&nbsp;=&nbsp;[],</div></div><div class=\"4520\" style=\"display: none;\"><div style=\"display: table-cell;\"></div><div style=\"display: table-cell;\">disabled&nbsp;=&nbsp;False,</div></div><div class=\"4520\" style=\"display: none;\"><div style=\"display: table-cell;\"></div><div style=\"display: table-cell;\">height&nbsp;=&nbsp;None,</div></div><div class=\"4520\" style=\"display: none;\"><div style=\"display: table-cell;\"></div><div style=\"display: table-cell;\">height_policy&nbsp;=&nbsp;'auto',</div></div><div class=\"4520\" style=\"display: none;\"><div style=\"display: table-cell;\"></div><div style=\"display: table-cell;\">js_event_callbacks&nbsp;=&nbsp;{},</div></div><div class=\"4520\" style=\"display: none;\"><div style=\"display: table-cell;\"></div><div style=\"display: table-cell;\">js_property_callbacks&nbsp;=&nbsp;{},</div></div><div class=\"4520\" style=\"display: none;\"><div style=\"display: table-cell;\"></div><div style=\"display: table-cell;\">margin&nbsp;=&nbsp;(0, 0, 0, 0),</div></div><div class=\"4520\" style=\"display: none;\"><div style=\"display: table-cell;\"></div><div style=\"display: table-cell;\">max_height&nbsp;=&nbsp;None,</div></div><div class=\"4520\" style=\"display: none;\"><div style=\"display: table-cell;\"></div><div style=\"display: table-cell;\">max_width&nbsp;=&nbsp;None,</div></div><div class=\"4520\" style=\"display: none;\"><div style=\"display: table-cell;\"></div><div style=\"display: table-cell;\">min_height&nbsp;=&nbsp;None,</div></div><div class=\"4520\" style=\"display: none;\"><div style=\"display: table-cell;\"></div><div style=\"display: table-cell;\">min_width&nbsp;=&nbsp;None,</div></div><div class=\"4520\" style=\"display: none;\"><div style=\"display: table-cell;\"></div><div style=\"display: table-cell;\">name&nbsp;=&nbsp;None,</div></div><div class=\"4520\" style=\"display: none;\"><div style=\"display: table-cell;\"></div><div style=\"display: table-cell;\">sizing_mode&nbsp;=&nbsp;'stretch_width',</div></div><div class=\"4520\" style=\"display: none;\"><div style=\"display: table-cell;\"></div><div style=\"display: table-cell;\">spacing&nbsp;=&nbsp;0,</div></div><div class=\"4520\" style=\"display: none;\"><div style=\"display: table-cell;\"></div><div style=\"display: table-cell;\">subscribed_events&nbsp;=&nbsp;[],</div></div><div class=\"4520\" style=\"display: none;\"><div style=\"display: table-cell;\"></div><div style=\"display: table-cell;\">syncable&nbsp;=&nbsp;True,</div></div><div class=\"4520\" style=\"display: none;\"><div style=\"display: table-cell;\"></div><div style=\"display: table-cell;\">tags&nbsp;=&nbsp;[],</div></div><div class=\"4520\" style=\"display: none;\"><div style=\"display: table-cell;\"></div><div style=\"display: table-cell;\">visible&nbsp;=&nbsp;True,</div></div><div class=\"4520\" style=\"display: none;\"><div style=\"display: table-cell;\"></div><div style=\"display: table-cell;\">width&nbsp;=&nbsp;None,</div></div><div class=\"4520\" style=\"display: none;\"><div style=\"display: table-cell;\"></div><div style=\"display: table-cell;\">width_policy&nbsp;=&nbsp;'auto')</div></div></div>\n",
       "<script>\n",
       "(function() {\n",
       "  let expanded = false;\n",
       "  const ellipsis = document.getElementById(\"4521\");\n",
       "  ellipsis.addEventListener(\"click\", function() {\n",
       "    const rows = document.getElementsByClassName(\"4520\");\n",
       "    for (let i = 0; i < rows.length; i++) {\n",
       "      const el = rows[i];\n",
       "      el.style.display = expanded ? \"none\" : \"table-row\";\n",
       "    }\n",
       "    ellipsis.innerHTML = expanded ? \"&hellip;)\" : \"&lsaquo;&lsaquo;&lsaquo;\";\n",
       "    expanded = !expanded;\n",
       "  });\n",
       "})();\n",
       "</script>\n"
      ],
      "text/plain": [
       "Row(id='4011', ...)"
      ]
     },
     "execution_count": 14,
     "metadata": {},
     "output_type": "execute_result"
    }
   ],
   "source": [
    "optim = bt.optimize(n1 = range(20, 130, 10),\n",
    "                    n2 = range (20, 130, 10),\n",
    "                    constraint = lambda x: x.n2 - x.n1 >= 5,\n",
    "                    maximize = 'Return [%]')\n",
    "bt.plot()"
   ]
  },
  {
   "cell_type": "code",
   "execution_count": 15,
   "metadata": {},
   "outputs": [
    {
     "data": {
      "text/plain": [
       "Start                                     0.0\n",
       "End                                   24875.0\n",
       "Duration                              24875.0\n",
       "Exposure Time [%]                   99.453288\n",
       "Equity Final [$]                   89577.2824\n",
       "Equity Peak [$]                  128200.51816\n",
       "Return [%]                         -10.422718\n",
       "Buy & Hold Return [%]                41.97878\n",
       "Return (Ann.) [%]                         0.0\n",
       "Volatility (Ann.) [%]                     NaN\n",
       "Sharpe Ratio                              NaN\n",
       "Sortino Ratio                             NaN\n",
       "Calmar Ratio                              0.0\n",
       "Max. Drawdown [%]                  -40.201326\n",
       "Avg. Drawdown [%]                   -3.041287\n",
       "Max. Drawdown Duration                15425.0\n",
       "Avg. Drawdown Duration             705.828571\n",
       "# Trades                                251.0\n",
       "Win Rate [%]                        32.669323\n",
       "Best Trade [%]                      11.164873\n",
       "Worst Trade [%]                      -4.51544\n",
       "Avg. Trade [%]                      -0.044669\n",
       "Max. Trade Duration                     519.0\n",
       "Avg. Trade Duration                 98.561753\n",
       "Profit Factor                         0.96075\n",
       "Expectancy [%]                      -0.026352\n",
       "SQN                                 -0.343817\n",
       "_strategy                 SMAcross(n1=40,n...\n",
       "_equity_curve                         Equi...\n",
       "_trades                        Size  Entry...\n",
       "dtype: object"
      ]
     },
     "execution_count": 15,
     "metadata": {},
     "output_type": "execute_result"
    }
   ],
   "source": [
    "optim"
   ]
  },
  {
   "cell_type": "markdown",
   "metadata": {},
   "source": [
    "# Martingale Risk management\n"
   ]
  },
  {
   "cell_type": "code",
   "execution_count": 10,
   "metadata": {},
   "outputs": [
    {
     "name": "stderr",
     "output_type": "stream",
     "text": [
      "C:\\Users\\User\\AppData\\Local\\Temp\\ipykernel_14984\\1735302736.py:46: UserWarning: Data index is not datetime. Assuming simple periods, but `pd.DateTimeIndex` is advised.\n",
      "  bt = Backtest(df, SMAcrossMartingale, cash=100000, commission=0.002, exclusive_orders=True)\n"
     ]
    },
    {
     "data": {
      "text/plain": [
       "Start                                     0.0\n",
       "End                                    3714.0\n",
       "Duration                               3714.0\n",
       "Exposure Time [%]                   97.604307\n",
       "Equity Final [$]                  100524.0932\n",
       "Equity Peak [$]                   101732.7088\n",
       "Return [%]                           0.524093\n",
       "Buy & Hold Return [%]                9.681916\n",
       "Return (Ann.) [%]                         0.0\n",
       "Volatility (Ann.) [%]                     NaN\n",
       "Sharpe Ratio                              NaN\n",
       "Sortino Ratio                             NaN\n",
       "Calmar Ratio                              0.0\n",
       "Max. Drawdown [%]                   -2.154782\n",
       "Avg. Drawdown [%]                   -0.135003\n",
       "Max. Drawdown Duration                 2046.0\n",
       "Avg. Drawdown Duration              81.272727\n",
       "# Trades                                 76.0\n",
       "Win Rate [%]                        36.842105\n",
       "Best Trade [%]                       5.916861\n",
       "Worst Trade [%]                      -1.68687\n",
       "Avg. Trade [%]                       0.033762\n",
       "Max. Trade Duration                     232.0\n",
       "Avg. Trade Duration                 47.697368\n",
       "Profit Factor                        1.107592\n",
       "Expectancy [%]                       0.040886\n",
       "SQN                                  0.250405\n",
       "_strategy                  SMAcrossMartingale\n",
       "_equity_curve                        Equit...\n",
       "_trades                       Size  EntryB...\n",
       "dtype: object"
      ]
     },
     "execution_count": 10,
     "metadata": {},
     "output_type": "execute_result"
    }
   ],
   "source": [
    "# Settings\n",
    "symbol = 'XAUUSD'\n",
    "timeframe = mt5.TIMEFRAME_H1\n",
    "start_date = datetime(2020, 1, 1)\n",
    "end_date = datetime.now()\n",
    "\n",
    "# Function to fetch data from MetaTrader\n",
    "def get_mt_data():\n",
    "    mt5.initialize()\n",
    "    bars = pd.DataFrame(mt5.copy_rates_range(symbol, timeframe, start_date, end_date))\n",
    "    bars['time'] = pd.to_datetime(bars['time'], unit='s')\n",
    "    bars.columns = bars.columns.str.capitalize()\n",
    "    return bars\n",
    "\n",
    "# Fetch historical price data\n",
    "df = get_mt_data()\n",
    "\n",
    "# Strategy class with Martingale risk management\n",
    "class SMAcrossMartingale(Strategy):\n",
    "    n1 = 20\n",
    "    n2 = 50\n",
    "    initial_position_size = 10.0  # Initial position size\n",
    "    martingale_multiplier = 1.5  # Multiplier for position size after a loss\n",
    "    current_position_size = initial_position_size\n",
    "\n",
    "    def init(self):\n",
    "        close = self.data.Close\n",
    "        self.sma1 = self.I(ta.trend.sma_indicator, pd.Series(close), self.n1)\n",
    "        self.sma2 = self.I(ta.trend.sma_indicator, pd.Series(close), self.n2)\n",
    "\n",
    "    def next(self):\n",
    "        if crossover(self.sma1, self.sma2):\n",
    "            self.buy(size=self.current_position_size)  # Buy with the current position size\n",
    "        elif crossover(self.sma2, self.sma1):\n",
    "            self.sell(size=self.current_position_size)  # Sell with the current position size\n",
    "\n",
    "    def on_loss(self, trade):\n",
    "        # Update position size using Martingale strategy\n",
    "        self.current_position_size *= self.martingale_multiplier\n",
    "\n",
    "    def on_win(self, trade):\n",
    "        # Reset position size to initial value after a winning trade\n",
    "        self.current_position_size = self.initial_position_size\n",
    "\n",
    "# Backtest with Martingale strategy\n",
    "bt = Backtest(df, SMAcrossMartingale, cash=100000, commission=0.002, exclusive_orders=True)\n",
    "output = bt.run()\n",
    "\n",
    "# Print backtest results\n",
    "output"
   ]
  },
  {
   "cell_type": "code",
   "execution_count": 8,
   "metadata": {},
   "outputs": [
    {
     "data": {
      "text/html": [
       "<div style=\"display: table;\"><div style=\"display: table-row;\"><div style=\"display: table-cell;\"><b title=\"bokeh.models.layouts.Row\">Row</b>(</div><div style=\"display: table-cell;\">id&nbsp;=&nbsp;'2251', <span id=\"2761\" style=\"cursor: pointer;\">&hellip;)</span></div></div><div class=\"2760\" style=\"display: none;\"><div style=\"display: table-cell;\"></div><div style=\"display: table-cell;\">align&nbsp;=&nbsp;'start',</div></div><div class=\"2760\" style=\"display: none;\"><div style=\"display: table-cell;\"></div><div style=\"display: table-cell;\">aspect_ratio&nbsp;=&nbsp;None,</div></div><div class=\"2760\" style=\"display: none;\"><div style=\"display: table-cell;\"></div><div style=\"display: table-cell;\">background&nbsp;=&nbsp;None,</div></div><div class=\"2760\" style=\"display: none;\"><div style=\"display: table-cell;\"></div><div style=\"display: table-cell;\">children&nbsp;=&nbsp;[GridBox(id='2248', ...), ToolbarBox(id='2250', ...)],</div></div><div class=\"2760\" style=\"display: none;\"><div style=\"display: table-cell;\"></div><div style=\"display: table-cell;\">cols&nbsp;=&nbsp;'auto',</div></div><div class=\"2760\" style=\"display: none;\"><div style=\"display: table-cell;\"></div><div style=\"display: table-cell;\">css_classes&nbsp;=&nbsp;[],</div></div><div class=\"2760\" style=\"display: none;\"><div style=\"display: table-cell;\"></div><div style=\"display: table-cell;\">disabled&nbsp;=&nbsp;False,</div></div><div class=\"2760\" style=\"display: none;\"><div style=\"display: table-cell;\"></div><div style=\"display: table-cell;\">height&nbsp;=&nbsp;None,</div></div><div class=\"2760\" style=\"display: none;\"><div style=\"display: table-cell;\"></div><div style=\"display: table-cell;\">height_policy&nbsp;=&nbsp;'auto',</div></div><div class=\"2760\" style=\"display: none;\"><div style=\"display: table-cell;\"></div><div style=\"display: table-cell;\">js_event_callbacks&nbsp;=&nbsp;{},</div></div><div class=\"2760\" style=\"display: none;\"><div style=\"display: table-cell;\"></div><div style=\"display: table-cell;\">js_property_callbacks&nbsp;=&nbsp;{},</div></div><div class=\"2760\" style=\"display: none;\"><div style=\"display: table-cell;\"></div><div style=\"display: table-cell;\">margin&nbsp;=&nbsp;(0, 0, 0, 0),</div></div><div class=\"2760\" style=\"display: none;\"><div style=\"display: table-cell;\"></div><div style=\"display: table-cell;\">max_height&nbsp;=&nbsp;None,</div></div><div class=\"2760\" style=\"display: none;\"><div style=\"display: table-cell;\"></div><div style=\"display: table-cell;\">max_width&nbsp;=&nbsp;None,</div></div><div class=\"2760\" style=\"display: none;\"><div style=\"display: table-cell;\"></div><div style=\"display: table-cell;\">min_height&nbsp;=&nbsp;None,</div></div><div class=\"2760\" style=\"display: none;\"><div style=\"display: table-cell;\"></div><div style=\"display: table-cell;\">min_width&nbsp;=&nbsp;None,</div></div><div class=\"2760\" style=\"display: none;\"><div style=\"display: table-cell;\"></div><div style=\"display: table-cell;\">name&nbsp;=&nbsp;None,</div></div><div class=\"2760\" style=\"display: none;\"><div style=\"display: table-cell;\"></div><div style=\"display: table-cell;\">sizing_mode&nbsp;=&nbsp;'stretch_width',</div></div><div class=\"2760\" style=\"display: none;\"><div style=\"display: table-cell;\"></div><div style=\"display: table-cell;\">spacing&nbsp;=&nbsp;0,</div></div><div class=\"2760\" style=\"display: none;\"><div style=\"display: table-cell;\"></div><div style=\"display: table-cell;\">subscribed_events&nbsp;=&nbsp;[],</div></div><div class=\"2760\" style=\"display: none;\"><div style=\"display: table-cell;\"></div><div style=\"display: table-cell;\">syncable&nbsp;=&nbsp;True,</div></div><div class=\"2760\" style=\"display: none;\"><div style=\"display: table-cell;\"></div><div style=\"display: table-cell;\">tags&nbsp;=&nbsp;[],</div></div><div class=\"2760\" style=\"display: none;\"><div style=\"display: table-cell;\"></div><div style=\"display: table-cell;\">visible&nbsp;=&nbsp;True,</div></div><div class=\"2760\" style=\"display: none;\"><div style=\"display: table-cell;\"></div><div style=\"display: table-cell;\">width&nbsp;=&nbsp;None,</div></div><div class=\"2760\" style=\"display: none;\"><div style=\"display: table-cell;\"></div><div style=\"display: table-cell;\">width_policy&nbsp;=&nbsp;'auto')</div></div></div>\n",
       "<script>\n",
       "(function() {\n",
       "  let expanded = false;\n",
       "  const ellipsis = document.getElementById(\"2761\");\n",
       "  ellipsis.addEventListener(\"click\", function() {\n",
       "    const rows = document.getElementsByClassName(\"2760\");\n",
       "    for (let i = 0; i < rows.length; i++) {\n",
       "      const el = rows[i];\n",
       "      el.style.display = expanded ? \"none\" : \"table-row\";\n",
       "    }\n",
       "    ellipsis.innerHTML = expanded ? \"&hellip;)\" : \"&lsaquo;&lsaquo;&lsaquo;\";\n",
       "    expanded = !expanded;\n",
       "  });\n",
       "})();\n",
       "</script>\n"
      ],
      "text/plain": [
       "Row(id='2251', ...)"
      ]
     },
     "execution_count": 8,
     "metadata": {},
     "output_type": "execute_result"
    }
   ],
   "source": [
    "bt.plot()"
   ]
  },
  {
   "cell_type": "code",
   "execution_count": 11,
   "metadata": {},
   "outputs": [
    {
     "data": {
      "application/vnd.jupyter.widget-view+json": {
       "model_id": "1d1118b11b054928888449926ff642f8",
       "version_major": 2,
       "version_minor": 0
      },
      "text/plain": [
       "  0%|          | 0/10 [00:00<?, ?it/s]"
      ]
     },
     "metadata": {},
     "output_type": "display_data"
    },
    {
     "data": {
      "text/plain": [
       "Start                                     0.0\n",
       "End                                    3714.0\n",
       "Duration                               3714.0\n",
       "Exposure Time [%]                    89.74428\n",
       "Equity Final [$]                  103162.1752\n",
       "Equity Peak [$]                   103925.1126\n",
       "Return [%]                           3.162175\n",
       "Buy & Hold Return [%]                9.681916\n",
       "Return (Ann.) [%]                         0.0\n",
       "Volatility (Ann.) [%]                     NaN\n",
       "Sharpe Ratio                              NaN\n",
       "Sortino Ratio                             NaN\n",
       "Calmar Ratio                              0.0\n",
       "Max. Drawdown [%]                   -2.365549\n",
       "Avg. Drawdown [%]                   -0.118491\n",
       "Max. Drawdown Duration                 1673.0\n",
       "Avg. Drawdown Duration              52.709677\n",
       "# Trades                                 20.0\n",
       "Win Rate [%]                             45.0\n",
       "Best Trade [%]                       7.385388\n",
       "Worst Trade [%]                     -2.224525\n",
       "Avg. Trade [%]                       0.795953\n",
       "Max. Trade Duration                     410.0\n",
       "Avg. Trade Duration                    166.65\n",
       "Profit Factor                        2.879192\n",
       "Expectancy [%]                       0.827332\n",
       "SQN                                  1.385192\n",
       "_strategy                 SMAcrossMartinga...\n",
       "_equity_curve                        Equit...\n",
       "_trades                       Size  EntryB...\n",
       "dtype: object"
      ]
     },
     "execution_count": 11,
     "metadata": {},
     "output_type": "execute_result"
    }
   ],
   "source": [
    "optim = bt.optimize(n1 = range(20, 130, 10),\n",
    "                    n2 = range (20, 130, 10),\n",
    "                    constraint = lambda x: x.n2 - x.n1 >= 5,\n",
    "                    maximize = 'Return [%]')\n",
    "optim"
   ]
  },
  {
   "cell_type": "code",
   "execution_count": null,
   "metadata": {},
   "outputs": [],
   "source": []
  }
 ],
 "metadata": {
  "kernelspec": {
   "display_name": "base",
   "language": "python",
   "name": "python3"
  },
  "language_info": {
   "codemirror_mode": {
    "name": "ipython",
    "version": 3
   },
   "file_extension": ".py",
   "mimetype": "text/x-python",
   "name": "python",
   "nbconvert_exporter": "python",
   "pygments_lexer": "ipython3",
   "version": "3.10.9"
  },
  "orig_nbformat": 4
 },
 "nbformat": 4,
 "nbformat_minor": 2
}
