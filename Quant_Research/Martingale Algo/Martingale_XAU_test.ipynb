{
 "cells": [
  {
   "cell_type": "code",
   "execution_count": 50,
   "metadata": {},
   "outputs": [],
   "source": [
    "import MetaTrader5 as mt5\n",
    "import pandas as pd\n",
    "import time\n",
    "from datetime import datetime\n",
    "import ta"
   ]
  },
  {
   "cell_type": "code",
   "execution_count": 2,
   "metadata": {},
   "outputs": [],
   "source": [
    "\n",
    "def connect_to_mt5():\n",
    "    if not mt5.initialize():\n",
    "        print(\"Failed to initialize the Metatrader 5 library.\")\n",
    "        return False\n",
    "    print(\"Connected to MetaTrader 5\")\n",
    "    return True"
   ]
  },
  {
   "cell_type": "code",
   "execution_count": 14,
   "metadata": {},
   "outputs": [],
   "source": [
    "\n",
    "def get_data(symbol, timeframe, start_date, end_time):\n",
    "    rates = mt5.copy_rates_range(symbol, timeframe, start_date, end_time)\n",
    "    df = pd.DataFrame(rates)\n",
    "    df['time'] = pd.to_datetime(df['time'], unit='s')\n",
    "    df.set_index('time', inplace=True)\n",
    "    return df"
   ]
  },
  {
   "cell_type": "code",
   "execution_count": 4,
   "metadata": {},
   "outputs": [],
   "source": [
    "\n",
    "def get_sma(data, period):\n",
    "    calc_sma = data['close'].tail(period)\n",
    "    sma = calc_sma.mean()\n",
    "    return sma\n"
   ]
  },
  {
   "cell_type": "code",
   "execution_count": 5,
   "metadata": {},
   "outputs": [],
   "source": [
    "def get_prev_sma(data, period):\n",
    "    prev_sma = data['close'].rolling(period).mean()\n",
    "    return prev_sma\n"
   ]
  },
  {
   "cell_type": "code",
   "execution_count": 6,
   "metadata": {},
   "outputs": [],
   "source": [
    "def market_order(symbol, volume, order_type, deviation=20, magic=261200):\n",
    "    order_type_dict = {\n",
    "        'buy'  : mt5.ORDER_TYPE_BUY,\n",
    "        'sell'  : mt5.ORDER_TYPE_SELL\n",
    "    }\n",
    "    price_dict = {\n",
    "        'buy' : mt5.symbol_info_tick(symbol).ask,\n",
    "        'sell' : mt5.symbol_info_tick(symbol).bid\n",
    "    }\n",
    "    \n",
    "    if order_type == 'buy':\n",
    "        sl_price = price_dict['buy'] - (200 * mt5.symbol_info(symbol).point)\n",
    "        tp_price = price_dict['buy'] + (500 * mt5.symbol_info(symbol).point)\n",
    "    elif order_type == 'sell':\n",
    "        sl_price = price_dict['sell'] + (200 * mt5.symbol_info(symbol).point)\n",
    "        tp_price = price_dict['sell'] - (500 * mt5.symbol_info(symbol).point)\n",
    "    else:\n",
    "        raise ValueError(\"Invalid order type.\")\n",
    "    \n",
    "    request = {\n",
    "        \"action\": mt5.TRADE_ACTION_DEAL,\n",
    "        \"symbol\": symbol,\n",
    "        \"volume\": volume,  # FLOAT\n",
    "        \"type\": order_type_dict[order_type],\n",
    "        \"price\": price_dict[order_type],\n",
    "        \"sl\": sl_price,  # FLOAT\n",
    "        \"tp\": tp_price,  # FLOAT\n",
    "        \"deviation\": deviation,  # INTEGER\n",
    "        \"magic\": magic,  # INTEGER\n",
    "        \"comment\": \"my_first_strat\",\n",
    "        \"type_time\": mt5.ORDER_TIME_GTC,\n",
    "        \"type_filling\": mt5.ORDER_FILLING_IOC,\n",
    "    }\n",
    "    \n",
    "    order_result = mt5.order_send(request)\n",
    "    return order_result"
   ]
  },
  {
   "cell_type": "code",
   "execution_count": 10,
   "metadata": {},
   "outputs": [],
   "source": [
    "def main():\n",
    "    symbol = 'XAUUSD'\n",
    "    timeframe = mt5.TIMEFRAME_M15\n",
    "    volume = 0.1\n",
    "    \n",
    "    if not connect_to_mt5():\n",
    "        return\n",
    "    \n",
    "    while True:\n",
    "        account_info = mt5.account_info()\n",
    "        print(datetime.now(),\n",
    "              '| Login: ', account_info.login,\n",
    "              '| Balance: ', account_info.balance,\n",
    "              '| Equity: ' , account_info.equity,\n",
    "              '| Profit: ', account_info.profit)\n",
    "        \n",
    "        current_time = datetime.now()\n",
    "        start_time = datetime(2024, 1, 1)\n",
    "        end_time = current_time\n",
    "\n",
    "        data = get_data(symbol, timeframe, start_time, end_time)\n",
    "        if len(data) < 120:  \n",
    "            print(\"Not enough data.\")\n",
    "            time.sleep(60)\n",
    "            continue\n",
    "        \n",
    "        fast_ma = get_sma(data,  20)\n",
    "        slow_ma = get_sma(data, 120)\n",
    "        \n",
    "\n",
    "\n",
    "        # Check if there are open positions\n",
    "        positions_total = mt5.positions_total()\n",
    "        \n",
    "        # Keep track of current position\n",
    "        in_position = positions_total > 0\n",
    "        \n",
    "        prev_fast_ma = get_prev_sma(data, 20).iloc[-2]\n",
    "        prev_slow_ma = get_prev_sma(data, 120).iloc[-2]\n",
    "\n",
    "\n",
    "        # Check conditions and place trades\n",
    "        if not in_position: \n",
    "            if (fast_ma > slow_ma) and (prev_fast_ma <= prev_slow_ma):\n",
    "                market_order(symbol, volume, 'buy')\n",
    "                print('Buy signal detected')\n",
    "                in_position = True\n",
    "\n",
    "            elif (fast_ma < slow_ma) and (prev_fast_ma >= prev_slow_ma):\n",
    "                market_order(symbol, volume, 'sell')\n",
    "                print('Sell signal detected')\n",
    "                in_position = True\n",
    "            \n",
    "        \n",
    "        time.sleep(900)  # Check every 15 minutes"
   ]
  },
  {
   "cell_type": "code",
   "execution_count": 51,
   "metadata": {},
   "outputs": [
    {
     "data": {
      "text/plain": [
       "time\n",
       "2024-01-02 01:00:00          NaN\n",
       "2024-01-02 01:15:00          NaN\n",
       "2024-01-02 01:30:00          NaN\n",
       "2024-01-02 01:45:00          NaN\n",
       "2024-01-02 02:00:00          NaN\n",
       "                         ...    \n",
       "2024-03-27 13:15:00    2181.3170\n",
       "2024-03-27 13:30:00    2182.0605\n",
       "2024-03-27 13:45:00    2182.8985\n",
       "2024-03-27 14:00:00    2183.6970\n",
       "2024-03-27 14:15:00    2184.5785\n",
       "Name: sma_20, Length: 5644, dtype: float64"
      ]
     },
     "execution_count": 51,
     "metadata": {},
     "output_type": "execute_result"
    }
   ],
   "source": [
    "ta.trend.sma_indicator(data['close'], window=20)"
   ]
  },
  {
   "cell_type": "code",
   "execution_count": 63,
   "metadata": {},
   "outputs": [
    {
     "data": {
      "text/plain": [
       "datetime.datetime(2024, 3, 27, 17, 45, 27)"
      ]
     },
     "execution_count": 63,
     "metadata": {},
     "output_type": "execute_result"
    }
   ],
   "source": [
    "time = datetime.utcfromtimestamp(mt5.symbol_info('XAUUSD').time)\n",
    "time"
   ]
  },
  {
   "cell_type": "code",
   "execution_count": 64,
   "metadata": {},
   "outputs": [
    {
     "name": "stdout",
     "output_type": "stream",
     "text": [
      "Fastma :2190.6150000000002\n",
      "Slowma :2182.527416666667\n",
      "Prev Fastma :2190.4530000000004\n",
      "Prev Slowma :2182.365\n",
      "(fast_ma > slow_ma) and (prev_fast_ma <= prev_slow_ma) :False\n",
      "(fast_ma < slow_ma) and (prev_fast_ma >= prev_slow_ma) :False\n"
     ]
    }
   ],
   "source": [
    "symbol = 'XAUUSD'\n",
    "timeframe = mt5.TIMEFRAME_M15\n",
    "current_time =  datetime.utcfromtimestamp(mt5.symbol_info('XAUUSD').time)\n",
    "start_time = datetime(2024, 1, 1)\n",
    "end_time = current_time\n",
    "data = get_data(symbol, timeframe, start_time, end_time)\n",
    "\n",
    "fast_ma = get_sma(data,  20)\n",
    "slow_ma = get_sma(data, 120)\n",
    "\n",
    "prev_fast_ma = get_prev_sma(data, 20).iloc[-2]\n",
    "prev_slow_ma = get_prev_sma(data, 120).iloc[-2]\n",
    "\n",
    "output1 = (fast_ma > slow_ma) and (prev_fast_ma <= prev_slow_ma)\n",
    "output2 = (fast_ma < slow_ma) and (prev_fast_ma >= prev_slow_ma)\n",
    "\n",
    "print(f'Fastma :{fast_ma}')\n",
    "print(f'Slowma :{slow_ma}')\n",
    "print(f'Prev Fastma :{prev_fast_ma}')\n",
    "print(f'Prev Slowma :{prev_slow_ma}')\n",
    "print(f'(fast_ma > slow_ma) and (prev_fast_ma <= prev_slow_ma) :{output1}')\n",
    "print(f'(fast_ma < slow_ma) and (prev_fast_ma >= prev_slow_ma) :{output2}')"
   ]
  },
  {
   "cell_type": "code",
   "execution_count": null,
   "metadata": {},
   "outputs": [],
   "source": [
    "if __name__ == \"__main__\":\n",
    "    main()"
   ]
  }
 ],
 "metadata": {
  "kernelspec": {
   "display_name": "base",
   "language": "python",
   "name": "python3"
  },
  "language_info": {
   "codemirror_mode": {
    "name": "ipython",
    "version": 3
   },
   "file_extension": ".py",
   "mimetype": "text/x-python",
   "name": "python",
   "nbconvert_exporter": "python",
   "pygments_lexer": "ipython3",
   "version": "3.10.9"
  }
 },
 "nbformat": 4,
 "nbformat_minor": 2
}
