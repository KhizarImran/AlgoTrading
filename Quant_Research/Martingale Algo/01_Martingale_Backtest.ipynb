{
 "cells": [
  {
   "cell_type": "markdown",
   "metadata": {},
   "source": [
    "# Martingale Backtesting \n",
    "\n",
    "This notebook will look to generate some sort os trading signals and store it in pandas dataframe column. that waill then be used in backtesting.py to backtest using a martingale risk management approach"
   ]
  },
  {
   "cell_type": "code",
   "execution_count": 1,
   "metadata": {},
   "outputs": [],
   "source": [
    "import MetaTrader5 as mt5\n",
    "import pandas as pd\n",
    "import ta\n",
    "import time\n",
    "from backtesting import Backtest, Strategy\n",
    "from backtesting.lib import crossover\n",
    "from datetime import datetime\n",
    "import matplotlib.pyplot as plt\n",
    "from matplotlib import cycler\n",
    "%matplotlib inline"
   ]
  },
  {
   "cell_type": "code",
   "execution_count": 45,
   "metadata": {},
   "outputs": [],
   "source": [
    "# Settings \n",
    "symbol = 'XAUUSD'\n",
    "timeframe = mt5.TIMEFRAME_H1\n",
    "start_date = datetime(2022, 8, 1)\n",
    "end_date = datetime.now()\n",
    "\n",
    "# Function \n",
    "def GetMTData():\n",
    "    mt5.initialize()\n",
    "    bars = pd.DataFrame(mt5.copy_rates_range(symbol, timeframe, start_date, end_date))\n",
    "    bars['time'] = pd.to_datetime(bars['time'], unit='s')\n",
    "    bars.columns = bars.columns.str.capitalize()\n",
    "    return bars\n",
    "\n",
    "df  = GetMTData()"
   ]
  },
  {
   "cell_type": "code",
   "execution_count": 62,
   "metadata": {},
   "outputs": [],
   "source": [
    "# Function to generate signals based on EMA crossover\n",
    "def generate_signals(data):\n",
    "    # Calculate EMAs\n",
    "    data['FEMA'] = ta.trend.ema_indicator(data['Close'], window=20)\n",
    "    data['SEMA'] = ta.trend.ema_indicator(data['Close'], window=120)\n",
    "\n",
    "    \n",
    "    data['Signals'] = 0\n",
    "    \n",
    "    prev_signal = 0\n",
    "\n",
    "    # Generate signals based on EMA crossover\n",
    "    for i in range (1, len(data)):\n",
    "        if data['FEMA'][i]>data['SEMA'][i] and data['FEMA'][i-1] <= data['SEMA'][i-1]: # Creating buy position == 2 \n",
    "                data.at[i, 'Signals'] = 2\n",
    "                prev_signal = 2\n",
    "        #elif data['FEMA'][i]<data['SEMA'][i] and data['FEMA'][i-1] >= data['SEMA'][i-1]: # Creating sell position == 1 \n",
    "                #data.at[i, 'Signals'] = 1\n",
    "                #prev_signal = 1\n",
    "        else:\n",
    "            data.at[i, 'Signals'] = 0\n",
    "            prev_signal = 0\n",
    "    return data\n",
    "\n",
    "\n",
    "df = generate_signals(df)"
   ]
  },
  {
   "cell_type": "code",
   "execution_count": 63,
   "metadata": {},
   "outputs": [],
   "source": [
    "def SIGNAL():\n",
    "    return df.Signals"
   ]
  },
  {
   "cell_type": "code",
   "execution_count": 75,
   "metadata": {},
   "outputs": [],
   "source": [
    "\n",
    "\n",
    "class SMAcross(Strategy):\n",
    "    \n",
    "    initsize = 50.0\n",
    "    mysize = initsize\n",
    "    \n",
    "    \n",
    "    def init(self):\n",
    "        super().init()\n",
    "        self.signal1 = self.I(SIGNAL)\n",
    "        \n",
    "        \n",
    "    def next(self):\n",
    "        super().next()\n",
    "        \n",
    "        # Martingale Risk Management\n",
    "        if (self.signal1 > 0 and len(self.trades)==0 and len(self.closed_trades)>0 and self.closed_trades[-1].pl < 0) :\n",
    "            self.mysize = self.mysize*2\n",
    "        elif len(self.closed_trades)>0 and self.closed_trades[-1].pl > 0:\n",
    "            self.mysize = self.initsize\n",
    "        \n",
    "        \n",
    "        if self.signal1 == 2:\n",
    "            sl1 = self.data.Close[-1] - 250e-1\n",
    "            tp1 = self.data.Close[-1] + 550e-1\n",
    "            self.buy(sl=sl1, tp=tp1, size=self.mysize)\n",
    "        \n",
    "        #elif self.signal1 == 1:\n",
    "            #sl1 = self.data.Close[-1] + 250e-1\n",
    "            #tp1 = self.data.Close[-1] - 550e-1\n",
    "            #self.sell(sl=sl1, tp=tp1, size=self.mysize)   \n",
    "            \n",
    "\n",
    "        "
   ]
  },
  {
   "cell_type": "code",
   "execution_count": 76,
   "metadata": {},
   "outputs": [
    {
     "name": "stderr",
     "output_type": "stream",
     "text": [
      "C:\\Users\\User\\AppData\\Local\\Temp\\ipykernel_9688\\290011193.py:1: UserWarning: Data index is not datetime. Assuming simple periods, but `pd.DateTimeIndex` is advised.\n",
      "  bt = Backtest(df, SMAcross, cash=100000, commission= 0.00, exclusive_orders=True, margin=1/100)\n"
     ]
    },
    {
     "data": {
      "text/plain": [
       "Start                                     0.0\n",
       "End                                    9631.0\n",
       "Duration                               9631.0\n",
       "Exposure Time [%]                   42.929817\n",
       "Equity Final [$]                     139468.5\n",
       "Equity Peak [$]                      139468.5\n",
       "Return [%]                            39.4685\n",
       "Buy & Hold Return [%]                22.21466\n",
       "Return (Ann.) [%]                         0.0\n",
       "Volatility (Ann.) [%]                     NaN\n",
       "Sharpe Ratio                              NaN\n",
       "Sortino Ratio                             NaN\n",
       "Calmar Ratio                              0.0\n",
       "Max. Drawdown [%]                   -7.784339\n",
       "Avg. Drawdown [%]                   -1.009289\n",
       "Max. Drawdown Duration                 1696.0\n",
       "Avg. Drawdown Duration              92.092105\n",
       "# Trades                                 51.0\n",
       "Win Rate [%]                        54.901961\n",
       "Best Trade [%]                       3.325312\n",
       "Worst Trade [%]                     -1.516399\n",
       "Avg. Trade [%]                       0.288661\n",
       "Max. Trade Duration                     400.0\n",
       "Avg. Trade Duration                 80.568627\n",
       "Profit Factor                        1.697922\n",
       "Expectancy [%]                       0.300205\n",
       "SQN                                  1.721579\n",
       "_strategy                            SMAcross\n",
       "_equity_curve                     Equity  ...\n",
       "_trades                       Size  EntryB...\n",
       "dtype: object"
      ]
     },
     "execution_count": 76,
     "metadata": {},
     "output_type": "execute_result"
    }
   ],
   "source": [
    "bt = Backtest(df, SMAcross, cash=100000, commission= 0.00, exclusive_orders=True, margin=1/100)\n",
    "            \n",
    "stat = bt.run()\n",
    "stat\n"
   ]
  },
  {
   "cell_type": "code",
   "execution_count": 77,
   "metadata": {},
   "outputs": [
    {
     "data": {
      "text/html": [
       "<div style=\"display: table;\"><div style=\"display: table-row;\"><div style=\"display: table-cell;\"><b title=\"bokeh.models.layouts.Row\">Row</b>(</div><div style=\"display: table-cell;\">id&nbsp;=&nbsp;'15749', <span id=\"16376\" style=\"cursor: pointer;\">&hellip;)</span></div></div><div class=\"16375\" style=\"display: none;\"><div style=\"display: table-cell;\"></div><div style=\"display: table-cell;\">align&nbsp;=&nbsp;'start',</div></div><div class=\"16375\" style=\"display: none;\"><div style=\"display: table-cell;\"></div><div style=\"display: table-cell;\">aspect_ratio&nbsp;=&nbsp;None,</div></div><div class=\"16375\" style=\"display: none;\"><div style=\"display: table-cell;\"></div><div style=\"display: table-cell;\">background&nbsp;=&nbsp;None,</div></div><div class=\"16375\" style=\"display: none;\"><div style=\"display: table-cell;\"></div><div style=\"display: table-cell;\">children&nbsp;=&nbsp;[GridBox(id='15746', ...), ToolbarBox(id='15748', ...)],</div></div><div class=\"16375\" style=\"display: none;\"><div style=\"display: table-cell;\"></div><div style=\"display: table-cell;\">cols&nbsp;=&nbsp;'auto',</div></div><div class=\"16375\" style=\"display: none;\"><div style=\"display: table-cell;\"></div><div style=\"display: table-cell;\">css_classes&nbsp;=&nbsp;[],</div></div><div class=\"16375\" style=\"display: none;\"><div style=\"display: table-cell;\"></div><div style=\"display: table-cell;\">disabled&nbsp;=&nbsp;False,</div></div><div class=\"16375\" style=\"display: none;\"><div style=\"display: table-cell;\"></div><div style=\"display: table-cell;\">height&nbsp;=&nbsp;None,</div></div><div class=\"16375\" style=\"display: none;\"><div style=\"display: table-cell;\"></div><div style=\"display: table-cell;\">height_policy&nbsp;=&nbsp;'auto',</div></div><div class=\"16375\" style=\"display: none;\"><div style=\"display: table-cell;\"></div><div style=\"display: table-cell;\">js_event_callbacks&nbsp;=&nbsp;{},</div></div><div class=\"16375\" style=\"display: none;\"><div style=\"display: table-cell;\"></div><div style=\"display: table-cell;\">js_property_callbacks&nbsp;=&nbsp;{},</div></div><div class=\"16375\" style=\"display: none;\"><div style=\"display: table-cell;\"></div><div style=\"display: table-cell;\">margin&nbsp;=&nbsp;(0, 0, 0, 0),</div></div><div class=\"16375\" style=\"display: none;\"><div style=\"display: table-cell;\"></div><div style=\"display: table-cell;\">max_height&nbsp;=&nbsp;None,</div></div><div class=\"16375\" style=\"display: none;\"><div style=\"display: table-cell;\"></div><div style=\"display: table-cell;\">max_width&nbsp;=&nbsp;None,</div></div><div class=\"16375\" style=\"display: none;\"><div style=\"display: table-cell;\"></div><div style=\"display: table-cell;\">min_height&nbsp;=&nbsp;None,</div></div><div class=\"16375\" style=\"display: none;\"><div style=\"display: table-cell;\"></div><div style=\"display: table-cell;\">min_width&nbsp;=&nbsp;None,</div></div><div class=\"16375\" style=\"display: none;\"><div style=\"display: table-cell;\"></div><div style=\"display: table-cell;\">name&nbsp;=&nbsp;None,</div></div><div class=\"16375\" style=\"display: none;\"><div style=\"display: table-cell;\"></div><div style=\"display: table-cell;\">sizing_mode&nbsp;=&nbsp;'stretch_width',</div></div><div class=\"16375\" style=\"display: none;\"><div style=\"display: table-cell;\"></div><div style=\"display: table-cell;\">spacing&nbsp;=&nbsp;0,</div></div><div class=\"16375\" style=\"display: none;\"><div style=\"display: table-cell;\"></div><div style=\"display: table-cell;\">subscribed_events&nbsp;=&nbsp;[],</div></div><div class=\"16375\" style=\"display: none;\"><div style=\"display: table-cell;\"></div><div style=\"display: table-cell;\">syncable&nbsp;=&nbsp;True,</div></div><div class=\"16375\" style=\"display: none;\"><div style=\"display: table-cell;\"></div><div style=\"display: table-cell;\">tags&nbsp;=&nbsp;[],</div></div><div class=\"16375\" style=\"display: none;\"><div style=\"display: table-cell;\"></div><div style=\"display: table-cell;\">visible&nbsp;=&nbsp;True,</div></div><div class=\"16375\" style=\"display: none;\"><div style=\"display: table-cell;\"></div><div style=\"display: table-cell;\">width&nbsp;=&nbsp;None,</div></div><div class=\"16375\" style=\"display: none;\"><div style=\"display: table-cell;\"></div><div style=\"display: table-cell;\">width_policy&nbsp;=&nbsp;'auto')</div></div></div>\n",
       "<script>\n",
       "(function() {\n",
       "  let expanded = false;\n",
       "  const ellipsis = document.getElementById(\"16376\");\n",
       "  ellipsis.addEventListener(\"click\", function() {\n",
       "    const rows = document.getElementsByClassName(\"16375\");\n",
       "    for (let i = 0; i < rows.length; i++) {\n",
       "      const el = rows[i];\n",
       "      el.style.display = expanded ? \"none\" : \"table-row\";\n",
       "    }\n",
       "    ellipsis.innerHTML = expanded ? \"&hellip;)\" : \"&lsaquo;&lsaquo;&lsaquo;\";\n",
       "    expanded = !expanded;\n",
       "  });\n",
       "})();\n",
       "</script>\n"
      ],
      "text/plain": [
       "Row(id='15749', ...)"
      ]
     },
     "execution_count": 77,
     "metadata": {},
     "output_type": "execute_result"
    }
   ],
   "source": [
    "bt.plot()"
   ]
  },
  {
   "cell_type": "code",
   "execution_count": null,
   "metadata": {},
   "outputs": [],
   "source": []
  }
 ],
 "metadata": {
  "kernelspec": {
   "display_name": "base",
   "language": "python",
   "name": "python3"
  },
  "language_info": {
   "codemirror_mode": {
    "name": "ipython",
    "version": 3
   },
   "file_extension": ".py",
   "mimetype": "text/x-python",
   "name": "python",
   "nbconvert_exporter": "python",
   "pygments_lexer": "ipython3",
   "version": "3.10.9"
  }
 },
 "nbformat": 4,
 "nbformat_minor": 2
}
