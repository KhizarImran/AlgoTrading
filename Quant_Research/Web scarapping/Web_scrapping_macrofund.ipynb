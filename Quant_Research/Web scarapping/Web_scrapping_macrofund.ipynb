{
 "cells": [
  {
   "cell_type": "code",
   "execution_count": 1,
   "metadata": {},
   "outputs": [],
   "source": [
    "import requests\n",
    "\n",
    "url = \"https://macrofundview.com/app\"\n",
    "response = requests.get(url)\n",
    "html = response.text\n"
   ]
  },
  {
   "cell_type": "code",
   "execution_count": 26,
   "metadata": {},
   "outputs": [
    {
     "data": {
      "text/plain": [
       "[<html lang=\"en\"><head><meta charset=\"utf-8\"/><link href=\"/favicon.ico\" rel=\"shortcut icon\"/><meta content=\"width=device-width,initial-scale=1,shrink-to-fit=no\" name=\"viewport\"/><meta content=\"#000000\" name=\"theme-color\"/><link href=\"/assets/fonts/simple-line-icons/css/simple-line-icons.css\" rel=\"stylesheet\"/><link href=\"/assets/fonts/iconsmind-s/css/iconsminds.css\" rel=\"stylesheet\"/><link href=\"/manifest.json\" rel=\"manifest\"><title>Macro Fundamental View - Lighthouse on Financial Markets</title><link href=\"/static/css/10.849a7a81.chunk.css\" rel=\"stylesheet\"/><link href=\"/static/css/main.4b1cbda5.chunk.css\" rel=\"stylesheet\"/></link></head><body class=\"ltr right-menu rounded\"><noscript>You need to enable JavaScript to run this app.</noscript><div id=\"root\"><div class=\"loading\"></div></div><script>!function(e){function t(t){for(var n,a,o=t[0],d=t[1],u=t[2],i=0,s=[];i<o.length;i++)a=o[i],Object.prototype.hasOwnProperty.call(f,a)&&f[a]&&s.push(f[a][0]),f[a]=0;for(n in d)Object.prototype.hasOwnProperty.call(d,n)&&(e[n]=d[n]);for(l&&l(t);s.length;)s.shift()();return c.push.apply(c,u||[]),r()}function r(){for(var e,t=0;t<c.length;t++){for(var r=c[t],n=!0,a=1;a<r.length;a++){var d=r[a];0!==f[d]&&(n=!1)}n&&(c.splice(t--,1),e=o(o.s=r[0]))}return e}var n={},a={6:0},f={6:0},c=[];function o(t){if(n[t])return n[t].exports;var r=n[t]={i:t,l:!1,exports:{}};return e[t].call(r.exports,r,r.exports,o),r.l=!0,r.exports}o.e=function(e){var t=[];a[e]?t.push(a[e]):0!==a[e]&&{3:1,7:1,8:1,24:1,25:1,26:1,27:1,28:1,29:1,30:1,31:1,32:1,33:1,34:1,35:1,36:1,37:1,38:1,39:1,40:1,41:1,42:1,43:1}[e]&&t.push(a[e]=new Promise((function(t,r){for(var n=\"static/css/\"+({}[e]||e)+\".\"+{0:\"31d6cfe0\",1:\"31d6cfe0\",2:\"31d6cfe0\",3:\"859f00eb\",4:\"31d6cfe0\",7:\"e790e171\",8:\"3e072235\",9:\"31d6cfe0\",11:\"31d6cfe0\",12:\"31d6cfe0\",13:\"31d6cfe0\",14:\"31d6cfe0\",15:\"31d6cfe0\",16:\"31d6cfe0\",17:\"31d6cfe0\",18:\"31d6cfe0\",19:\"31d6cfe0\",20:\"31d6cfe0\",21:\"31d6cfe0\",22:\"31d6cfe0\",23:\"31d6cfe0\",24:\"2c2f2252\",25:\"ca5678e6\",26:\"7b92ac12\",27:\"30e5f06a\",28:\"07466d0a\",29:\"2d56aa6e\",30:\"5176eb60\",31:\"0d77563c\",32:\"13c72f65\",33:\"a81f4766\",34:\"05f4fe47\",35:\"aaa53b69\",36:\"85f04ced\",37:\"6b4e65e0\",38:\"cae96bc2\",39:\"8d0e8362\",40:\"c414b0f5\",41:\"3d3878b1\",42:\"d7dec581\",43:\"70eae323\",44:\"31d6cfe0\",45:\"31d6cfe0\"}[e]+\".chunk.css\",f=o.p+n,c=document.getElementsByTagName(\"link\"),d=0;d<c.length;d++){var u=(l=c[d]).getAttribute(\"data-href\")||l.getAttribute(\"href\");if(\"stylesheet\"===l.rel&&(u===n||u===f))return t()}var i=document.getElementsByTagName(\"style\");for(d=0;d<i.length;d++){var l;if((u=(l=i[d]).getAttribute(\"data-href\"))===n||u===f)return t()}var s=document.createElement(\"link\");s.rel=\"stylesheet\",s.type=\"text/css\",s.onload=t,s.onerror=function(t){var n=t&&t.target&&t.target.src||f,c=new Error(\"Loading CSS chunk \"+e+\" failed.\\n(\"+n+\")\");c.code=\"CSS_CHUNK_LOAD_FAILED\",c.request=n,delete a[e],s.parentNode.removeChild(s),r(c)},s.href=f,document.getElementsByTagName(\"head\")[0].appendChild(s)})).then((function(){a[e]=0})));var r=f[e];if(0!==r)if(r)t.push(r[2]);else{var n=new Promise((function(t,n){r=f[e]=[t,n]}));t.push(r[2]=n);var c,d=document.createElement(\"script\");d.charset=\"utf-8\",d.timeout=120,o.nc&&d.setAttribute(\"nonce\",o.nc),d.src=function(e){return o.p+\"static/js/\"+({}[e]||e)+\".\"+{0:\"afd0cd72\",1:\"df127369\",2:\"03987a64\",3:\"44236aed\",4:\"c45236c5\",7:\"bffd240f\",8:\"7b2b497e\",9:\"0ea6518a\",11:\"4c27e484\",12:\"adc17a69\",13:\"6e21ba43\",14:\"3abdbd44\",15:\"c63282c9\",16:\"b09ff7af\",17:\"d2448f41\",18:\"b6781557\",19:\"de2d647d\",20:\"d9a92f13\",21:\"64a0c95a\",22:\"a1ae5b09\",23:\"d9a7ce68\",24:\"70b97605\",25:\"ff4f1147\",26:\"80bb8f2a\",27:\"18e52307\",28:\"1b347f26\",29:\"7ff59cf6\",30:\"4b8457e0\",31:\"f3bd5115\",32:\"b4e95789\",33:\"6e164450\",34:\"f224350c\",35:\"3bf43e1a\",36:\"f6b50bca\",37:\"ff7d8caa\",38:\"ba2afb81\",39:\"5ac156e6\",40:\"d1a1a263\",41:\"f10af7a5\",42:\"1fb94b03\",43:\"fff3b151\",44:\"6ca7350c\",45:\"b71ebbac\"}[e]+\".chunk.js\"}(e);var u=new Error;c=function(t){d.onerror=d.onload=null,clearTimeout(i);var r=f[e];if(0!==r){if(r){var n=t&&(\"load\"===t.type?\"missing\":t.type),a=t&&t.target&&t.target.src;u.message=\"Loading chunk \"+e+\" failed.\\n(\"+n+\": \"+a+\")\",u.name=\"ChunkLoadError\",u.type=n,u.request=a,r[1](u)}f[e]=void 0}};var i=setTimeout((function(){c({type:\"timeout\",target:d})}),12e4);d.onerror=d.onload=c,document.head.appendChild(d)}return Promise.all(t)},o.m=e,o.c=n,o.d=function(e,t,r){o.o(e,t)||Object.defineProperty(e,t,{enumerable:!0,get:r})},o.r=function(e){\"undefined\"!=typeof Symbol&&Symbol.toStringTag&&Object.defineProperty(e,Symbol.toStringTag,{value:\"Module\"}),Object.defineProperty(e,\"__esModule\",{value:!0})},o.t=function(e,t){if(1&t&&(e=o(e)),8&t)return e;if(4&t&&\"object\"==typeof e&&e&&e.__esModule)return e;var r=Object.create(null);if(o.r(r),Object.defineProperty(r,\"default\",{enumerable:!0,value:e}),2&t&&\"string\"!=typeof e)for(var n in e)o.d(r,n,function(t){return e[t]}.bind(null,n));return r},o.n=function(e){var t=e&&e.__esModule?function(){return e.default}:function(){return e};return o.d(t,\"a\",t),t},o.o=function(e,t){return Object.prototype.hasOwnProperty.call(e,t)},o.p=\"/\",o.oe=function(e){throw console.error(e),e};var d=this.webpackJsonpmacrofundview=this.webpackJsonpmacrofundview||[],u=d.push.bind(d);d.push=t,d=d.slice();for(var i=0;i<d.length;i++)t(d[i]);var l=u;r()}([])</script><script src=\"/static/js/10.d2bf79e1.chunk.js\"></script><script src=\"/static/js/main.98b45b6c.chunk.js\"></script></body></html>,\n",
       " <head><meta charset=\"utf-8\"/><link href=\"/favicon.ico\" rel=\"shortcut icon\"/><meta content=\"width=device-width,initial-scale=1,shrink-to-fit=no\" name=\"viewport\"/><meta content=\"#000000\" name=\"theme-color\"/><link href=\"/assets/fonts/simple-line-icons/css/simple-line-icons.css\" rel=\"stylesheet\"/><link href=\"/assets/fonts/iconsmind-s/css/iconsminds.css\" rel=\"stylesheet\"/><link href=\"/manifest.json\" rel=\"manifest\"><title>Macro Fundamental View - Lighthouse on Financial Markets</title><link href=\"/static/css/10.849a7a81.chunk.css\" rel=\"stylesheet\"/><link href=\"/static/css/main.4b1cbda5.chunk.css\" rel=\"stylesheet\"/></link></head>,\n",
       " <meta charset=\"utf-8\"/>,\n",
       " <link href=\"/favicon.ico\" rel=\"shortcut icon\"/>,\n",
       " <meta content=\"width=device-width,initial-scale=1,shrink-to-fit=no\" name=\"viewport\"/>,\n",
       " <meta content=\"#000000\" name=\"theme-color\"/>,\n",
       " <link href=\"/assets/fonts/simple-line-icons/css/simple-line-icons.css\" rel=\"stylesheet\"/>,\n",
       " <link href=\"/assets/fonts/iconsmind-s/css/iconsminds.css\" rel=\"stylesheet\"/>,\n",
       " <link href=\"/manifest.json\" rel=\"manifest\"><title>Macro Fundamental View - Lighthouse on Financial Markets</title><link href=\"/static/css/10.849a7a81.chunk.css\" rel=\"stylesheet\"/><link href=\"/static/css/main.4b1cbda5.chunk.css\" rel=\"stylesheet\"/></link>,\n",
       " <title>Macro Fundamental View - Lighthouse on Financial Markets</title>,\n",
       " <link href=\"/static/css/10.849a7a81.chunk.css\" rel=\"stylesheet\"/>,\n",
       " <link href=\"/static/css/main.4b1cbda5.chunk.css\" rel=\"stylesheet\"/>,\n",
       " <body class=\"ltr right-menu rounded\"><noscript>You need to enable JavaScript to run this app.</noscript><div id=\"root\"><div class=\"loading\"></div></div><script>!function(e){function t(t){for(var n,a,o=t[0],d=t[1],u=t[2],i=0,s=[];i<o.length;i++)a=o[i],Object.prototype.hasOwnProperty.call(f,a)&&f[a]&&s.push(f[a][0]),f[a]=0;for(n in d)Object.prototype.hasOwnProperty.call(d,n)&&(e[n]=d[n]);for(l&&l(t);s.length;)s.shift()();return c.push.apply(c,u||[]),r()}function r(){for(var e,t=0;t<c.length;t++){for(var r=c[t],n=!0,a=1;a<r.length;a++){var d=r[a];0!==f[d]&&(n=!1)}n&&(c.splice(t--,1),e=o(o.s=r[0]))}return e}var n={},a={6:0},f={6:0},c=[];function o(t){if(n[t])return n[t].exports;var r=n[t]={i:t,l:!1,exports:{}};return e[t].call(r.exports,r,r.exports,o),r.l=!0,r.exports}o.e=function(e){var t=[];a[e]?t.push(a[e]):0!==a[e]&&{3:1,7:1,8:1,24:1,25:1,26:1,27:1,28:1,29:1,30:1,31:1,32:1,33:1,34:1,35:1,36:1,37:1,38:1,39:1,40:1,41:1,42:1,43:1}[e]&&t.push(a[e]=new Promise((function(t,r){for(var n=\"static/css/\"+({}[e]||e)+\".\"+{0:\"31d6cfe0\",1:\"31d6cfe0\",2:\"31d6cfe0\",3:\"859f00eb\",4:\"31d6cfe0\",7:\"e790e171\",8:\"3e072235\",9:\"31d6cfe0\",11:\"31d6cfe0\",12:\"31d6cfe0\",13:\"31d6cfe0\",14:\"31d6cfe0\",15:\"31d6cfe0\",16:\"31d6cfe0\",17:\"31d6cfe0\",18:\"31d6cfe0\",19:\"31d6cfe0\",20:\"31d6cfe0\",21:\"31d6cfe0\",22:\"31d6cfe0\",23:\"31d6cfe0\",24:\"2c2f2252\",25:\"ca5678e6\",26:\"7b92ac12\",27:\"30e5f06a\",28:\"07466d0a\",29:\"2d56aa6e\",30:\"5176eb60\",31:\"0d77563c\",32:\"13c72f65\",33:\"a81f4766\",34:\"05f4fe47\",35:\"aaa53b69\",36:\"85f04ced\",37:\"6b4e65e0\",38:\"cae96bc2\",39:\"8d0e8362\",40:\"c414b0f5\",41:\"3d3878b1\",42:\"d7dec581\",43:\"70eae323\",44:\"31d6cfe0\",45:\"31d6cfe0\"}[e]+\".chunk.css\",f=o.p+n,c=document.getElementsByTagName(\"link\"),d=0;d<c.length;d++){var u=(l=c[d]).getAttribute(\"data-href\")||l.getAttribute(\"href\");if(\"stylesheet\"===l.rel&&(u===n||u===f))return t()}var i=document.getElementsByTagName(\"style\");for(d=0;d<i.length;d++){var l;if((u=(l=i[d]).getAttribute(\"data-href\"))===n||u===f)return t()}var s=document.createElement(\"link\");s.rel=\"stylesheet\",s.type=\"text/css\",s.onload=t,s.onerror=function(t){var n=t&&t.target&&t.target.src||f,c=new Error(\"Loading CSS chunk \"+e+\" failed.\\n(\"+n+\")\");c.code=\"CSS_CHUNK_LOAD_FAILED\",c.request=n,delete a[e],s.parentNode.removeChild(s),r(c)},s.href=f,document.getElementsByTagName(\"head\")[0].appendChild(s)})).then((function(){a[e]=0})));var r=f[e];if(0!==r)if(r)t.push(r[2]);else{var n=new Promise((function(t,n){r=f[e]=[t,n]}));t.push(r[2]=n);var c,d=document.createElement(\"script\");d.charset=\"utf-8\",d.timeout=120,o.nc&&d.setAttribute(\"nonce\",o.nc),d.src=function(e){return o.p+\"static/js/\"+({}[e]||e)+\".\"+{0:\"afd0cd72\",1:\"df127369\",2:\"03987a64\",3:\"44236aed\",4:\"c45236c5\",7:\"bffd240f\",8:\"7b2b497e\",9:\"0ea6518a\",11:\"4c27e484\",12:\"adc17a69\",13:\"6e21ba43\",14:\"3abdbd44\",15:\"c63282c9\",16:\"b09ff7af\",17:\"d2448f41\",18:\"b6781557\",19:\"de2d647d\",20:\"d9a92f13\",21:\"64a0c95a\",22:\"a1ae5b09\",23:\"d9a7ce68\",24:\"70b97605\",25:\"ff4f1147\",26:\"80bb8f2a\",27:\"18e52307\",28:\"1b347f26\",29:\"7ff59cf6\",30:\"4b8457e0\",31:\"f3bd5115\",32:\"b4e95789\",33:\"6e164450\",34:\"f224350c\",35:\"3bf43e1a\",36:\"f6b50bca\",37:\"ff7d8caa\",38:\"ba2afb81\",39:\"5ac156e6\",40:\"d1a1a263\",41:\"f10af7a5\",42:\"1fb94b03\",43:\"fff3b151\",44:\"6ca7350c\",45:\"b71ebbac\"}[e]+\".chunk.js\"}(e);var u=new Error;c=function(t){d.onerror=d.onload=null,clearTimeout(i);var r=f[e];if(0!==r){if(r){var n=t&&(\"load\"===t.type?\"missing\":t.type),a=t&&t.target&&t.target.src;u.message=\"Loading chunk \"+e+\" failed.\\n(\"+n+\": \"+a+\")\",u.name=\"ChunkLoadError\",u.type=n,u.request=a,r[1](u)}f[e]=void 0}};var i=setTimeout((function(){c({type:\"timeout\",target:d})}),12e4);d.onerror=d.onload=c,document.head.appendChild(d)}return Promise.all(t)},o.m=e,o.c=n,o.d=function(e,t,r){o.o(e,t)||Object.defineProperty(e,t,{enumerable:!0,get:r})},o.r=function(e){\"undefined\"!=typeof Symbol&&Symbol.toStringTag&&Object.defineProperty(e,Symbol.toStringTag,{value:\"Module\"}),Object.defineProperty(e,\"__esModule\",{value:!0})},o.t=function(e,t){if(1&t&&(e=o(e)),8&t)return e;if(4&t&&\"object\"==typeof e&&e&&e.__esModule)return e;var r=Object.create(null);if(o.r(r),Object.defineProperty(r,\"default\",{enumerable:!0,value:e}),2&t&&\"string\"!=typeof e)for(var n in e)o.d(r,n,function(t){return e[t]}.bind(null,n));return r},o.n=function(e){var t=e&&e.__esModule?function(){return e.default}:function(){return e};return o.d(t,\"a\",t),t},o.o=function(e,t){return Object.prototype.hasOwnProperty.call(e,t)},o.p=\"/\",o.oe=function(e){throw console.error(e),e};var d=this.webpackJsonpmacrofundview=this.webpackJsonpmacrofundview||[],u=d.push.bind(d);d.push=t,d=d.slice();for(var i=0;i<d.length;i++)t(d[i]);var l=u;r()}([])</script><script src=\"/static/js/10.d2bf79e1.chunk.js\"></script><script src=\"/static/js/main.98b45b6c.chunk.js\"></script></body>,\n",
       " <noscript>You need to enable JavaScript to run this app.</noscript>,\n",
       " <div id=\"root\"><div class=\"loading\"></div></div>,\n",
       " <div class=\"loading\"></div>,\n",
       " <script>!function(e){function t(t){for(var n,a,o=t[0],d=t[1],u=t[2],i=0,s=[];i<o.length;i++)a=o[i],Object.prototype.hasOwnProperty.call(f,a)&&f[a]&&s.push(f[a][0]),f[a]=0;for(n in d)Object.prototype.hasOwnProperty.call(d,n)&&(e[n]=d[n]);for(l&&l(t);s.length;)s.shift()();return c.push.apply(c,u||[]),r()}function r(){for(var e,t=0;t<c.length;t++){for(var r=c[t],n=!0,a=1;a<r.length;a++){var d=r[a];0!==f[d]&&(n=!1)}n&&(c.splice(t--,1),e=o(o.s=r[0]))}return e}var n={},a={6:0},f={6:0},c=[];function o(t){if(n[t])return n[t].exports;var r=n[t]={i:t,l:!1,exports:{}};return e[t].call(r.exports,r,r.exports,o),r.l=!0,r.exports}o.e=function(e){var t=[];a[e]?t.push(a[e]):0!==a[e]&&{3:1,7:1,8:1,24:1,25:1,26:1,27:1,28:1,29:1,30:1,31:1,32:1,33:1,34:1,35:1,36:1,37:1,38:1,39:1,40:1,41:1,42:1,43:1}[e]&&t.push(a[e]=new Promise((function(t,r){for(var n=\"static/css/\"+({}[e]||e)+\".\"+{0:\"31d6cfe0\",1:\"31d6cfe0\",2:\"31d6cfe0\",3:\"859f00eb\",4:\"31d6cfe0\",7:\"e790e171\",8:\"3e072235\",9:\"31d6cfe0\",11:\"31d6cfe0\",12:\"31d6cfe0\",13:\"31d6cfe0\",14:\"31d6cfe0\",15:\"31d6cfe0\",16:\"31d6cfe0\",17:\"31d6cfe0\",18:\"31d6cfe0\",19:\"31d6cfe0\",20:\"31d6cfe0\",21:\"31d6cfe0\",22:\"31d6cfe0\",23:\"31d6cfe0\",24:\"2c2f2252\",25:\"ca5678e6\",26:\"7b92ac12\",27:\"30e5f06a\",28:\"07466d0a\",29:\"2d56aa6e\",30:\"5176eb60\",31:\"0d77563c\",32:\"13c72f65\",33:\"a81f4766\",34:\"05f4fe47\",35:\"aaa53b69\",36:\"85f04ced\",37:\"6b4e65e0\",38:\"cae96bc2\",39:\"8d0e8362\",40:\"c414b0f5\",41:\"3d3878b1\",42:\"d7dec581\",43:\"70eae323\",44:\"31d6cfe0\",45:\"31d6cfe0\"}[e]+\".chunk.css\",f=o.p+n,c=document.getElementsByTagName(\"link\"),d=0;d<c.length;d++){var u=(l=c[d]).getAttribute(\"data-href\")||l.getAttribute(\"href\");if(\"stylesheet\"===l.rel&&(u===n||u===f))return t()}var i=document.getElementsByTagName(\"style\");for(d=0;d<i.length;d++){var l;if((u=(l=i[d]).getAttribute(\"data-href\"))===n||u===f)return t()}var s=document.createElement(\"link\");s.rel=\"stylesheet\",s.type=\"text/css\",s.onload=t,s.onerror=function(t){var n=t&&t.target&&t.target.src||f,c=new Error(\"Loading CSS chunk \"+e+\" failed.\\n(\"+n+\")\");c.code=\"CSS_CHUNK_LOAD_FAILED\",c.request=n,delete a[e],s.parentNode.removeChild(s),r(c)},s.href=f,document.getElementsByTagName(\"head\")[0].appendChild(s)})).then((function(){a[e]=0})));var r=f[e];if(0!==r)if(r)t.push(r[2]);else{var n=new Promise((function(t,n){r=f[e]=[t,n]}));t.push(r[2]=n);var c,d=document.createElement(\"script\");d.charset=\"utf-8\",d.timeout=120,o.nc&&d.setAttribute(\"nonce\",o.nc),d.src=function(e){return o.p+\"static/js/\"+({}[e]||e)+\".\"+{0:\"afd0cd72\",1:\"df127369\",2:\"03987a64\",3:\"44236aed\",4:\"c45236c5\",7:\"bffd240f\",8:\"7b2b497e\",9:\"0ea6518a\",11:\"4c27e484\",12:\"adc17a69\",13:\"6e21ba43\",14:\"3abdbd44\",15:\"c63282c9\",16:\"b09ff7af\",17:\"d2448f41\",18:\"b6781557\",19:\"de2d647d\",20:\"d9a92f13\",21:\"64a0c95a\",22:\"a1ae5b09\",23:\"d9a7ce68\",24:\"70b97605\",25:\"ff4f1147\",26:\"80bb8f2a\",27:\"18e52307\",28:\"1b347f26\",29:\"7ff59cf6\",30:\"4b8457e0\",31:\"f3bd5115\",32:\"b4e95789\",33:\"6e164450\",34:\"f224350c\",35:\"3bf43e1a\",36:\"f6b50bca\",37:\"ff7d8caa\",38:\"ba2afb81\",39:\"5ac156e6\",40:\"d1a1a263\",41:\"f10af7a5\",42:\"1fb94b03\",43:\"fff3b151\",44:\"6ca7350c\",45:\"b71ebbac\"}[e]+\".chunk.js\"}(e);var u=new Error;c=function(t){d.onerror=d.onload=null,clearTimeout(i);var r=f[e];if(0!==r){if(r){var n=t&&(\"load\"===t.type?\"missing\":t.type),a=t&&t.target&&t.target.src;u.message=\"Loading chunk \"+e+\" failed.\\n(\"+n+\": \"+a+\")\",u.name=\"ChunkLoadError\",u.type=n,u.request=a,r[1](u)}f[e]=void 0}};var i=setTimeout((function(){c({type:\"timeout\",target:d})}),12e4);d.onerror=d.onload=c,document.head.appendChild(d)}return Promise.all(t)},o.m=e,o.c=n,o.d=function(e,t,r){o.o(e,t)||Object.defineProperty(e,t,{enumerable:!0,get:r})},o.r=function(e){\"undefined\"!=typeof Symbol&&Symbol.toStringTag&&Object.defineProperty(e,Symbol.toStringTag,{value:\"Module\"}),Object.defineProperty(e,\"__esModule\",{value:!0})},o.t=function(e,t){if(1&t&&(e=o(e)),8&t)return e;if(4&t&&\"object\"==typeof e&&e&&e.__esModule)return e;var r=Object.create(null);if(o.r(r),Object.defineProperty(r,\"default\",{enumerable:!0,value:e}),2&t&&\"string\"!=typeof e)for(var n in e)o.d(r,n,function(t){return e[t]}.bind(null,n));return r},o.n=function(e){var t=e&&e.__esModule?function(){return e.default}:function(){return e};return o.d(t,\"a\",t),t},o.o=function(e,t){return Object.prototype.hasOwnProperty.call(e,t)},o.p=\"/\",o.oe=function(e){throw console.error(e),e};var d=this.webpackJsonpmacrofundview=this.webpackJsonpmacrofundview||[],u=d.push.bind(d);d.push=t,d=d.slice();for(var i=0;i<d.length;i++)t(d[i]);var l=u;r()}([])</script>,\n",
       " <script src=\"/static/js/10.d2bf79e1.chunk.js\"></script>,\n",
       " <script src=\"/static/js/main.98b45b6c.chunk.js\"></script>]"
      ]
     },
     "execution_count": 26,
     "metadata": {},
     "output_type": "execute_result"
    }
   ],
   "source": [
    "from bs4 import BeautifulSoup\n",
    "\n",
    "soup = BeautifulSoup(html, 'html.parser')\n",
    "\n",
    "# Find and extract data using BeautifulSoup methods like find, find_all, etc.\n",
    "data = soup.find_all()\n",
    "data\n"
   ]
  },
  {
   "cell_type": "code",
   "execution_count": 24,
   "metadata": {},
   "outputs": [
    {
     "name": "stderr",
     "output_type": "stream",
     "text": [
      "c:\\Users\\User\\anaconda3\\anaconda_3\\lib\\site-packages\\pandas\\core\\internals\\construction.py:568: VisibleDeprecationWarning: Creating an ndarray from ragged nested sequences (which is a list-or-tuple of lists-or-tuples-or ndarrays with different lengths or shapes) is deprecated. If you meant to do this, you must specify 'dtype=object' when creating the ndarray.\n",
      "  values = np.array([convert(v) for v in values])\n"
     ]
    }
   ],
   "source": [
    "import pandas as pd\n",
    "\n",
    "# Create a DataFrame from your data\n",
    "df = pd.DataFrame(data)\n"
   ]
  },
  {
   "cell_type": "code",
   "execution_count": 25,
   "metadata": {},
   "outputs": [
    {
     "data": {
      "text/html": [
       "<div>\n",
       "<style scoped>\n",
       "    .dataframe tbody tr th:only-of-type {\n",
       "        vertical-align: middle;\n",
       "    }\n",
       "\n",
       "    .dataframe tbody tr th {\n",
       "        vertical-align: top;\n",
       "    }\n",
       "\n",
       "    .dataframe thead th {\n",
       "        text-align: right;\n",
       "    }\n",
       "</style>\n",
       "<table border=\"1\" class=\"dataframe\">\n",
       "  <thead>\n",
       "    <tr style=\"text-align: right;\">\n",
       "      <th></th>\n",
       "      <th>0</th>\n",
       "      <th>1</th>\n",
       "      <th>2</th>\n",
       "      <th>3</th>\n",
       "      <th>4</th>\n",
       "    </tr>\n",
       "  </thead>\n",
       "  <tbody>\n",
       "    <tr>\n",
       "      <th>0</th>\n",
       "      <td>[You need to enable JavaScript to run this app.]</td>\n",
       "      <td>[[]]</td>\n",
       "      <td>[!function(e){function t(t){for(var n,a,o=t[0]...</td>\n",
       "      <td>[]</td>\n",
       "      <td>[]</td>\n",
       "    </tr>\n",
       "  </tbody>\n",
       "</table>\n",
       "</div>"
      ],
      "text/plain": [
       "                                                  0     1  \\\n",
       "0  [You need to enable JavaScript to run this app.]  [[]]   \n",
       "\n",
       "                                                   2   3   4  \n",
       "0  [!function(e){function t(t){for(var n,a,o=t[0]...  []  []  "
      ]
     },
     "execution_count": 25,
     "metadata": {},
     "output_type": "execute_result"
    }
   ],
   "source": [
    "df"
   ]
  },
  {
   "cell_type": "code",
   "execution_count": null,
   "metadata": {},
   "outputs": [],
   "source": []
  }
 ],
 "metadata": {
  "kernelspec": {
   "display_name": "base",
   "language": "python",
   "name": "python3"
  },
  "language_info": {
   "codemirror_mode": {
    "name": "ipython",
    "version": 3
   },
   "file_extension": ".py",
   "mimetype": "text/x-python",
   "name": "python",
   "nbconvert_exporter": "python",
   "pygments_lexer": "ipython3",
   "version": "3.10.9"
  }
 },
 "nbformat": 4,
 "nbformat_minor": 2
}
